{
  "cells": [
    {
      "cell_type": "markdown",
      "metadata": {
        "id": "Z2E6HNXww3Go"
      },
      "source": [
        "# Loop Statements:\n",
        "1) While Loop:\n",
        "\n",
        "*   With the while loop we can execute a set of statements as long as a condition is true.\n",
        "*   It is useful when the number of iterations is unknown beforehand.\n",
        "*   remember to increment i, or else the loop will continue forever."
      ]
    },
    {
      "cell_type": "code",
      "source": [
        "# Syntax:\n",
        "while condition:\n",
        "    # Code block to execute"
      ],
      "metadata": {
        "id": "t6M5au62G8x4"
      },
      "execution_count": null,
      "outputs": []
    },
    {
      "cell_type": "code",
      "execution_count": 1,
      "metadata": {
        "colab": {
          "base_uri": "https://localhost:8080/"
        },
        "id": "7DtZKPUryuIe",
        "outputId": "42555bb4-f8cb-4b88-d259-e9fc58bbd074"
      },
      "outputs": [
        {
          "output_type": "stream",
          "name": "stdout",
          "text": [
            "1\n",
            "2\n",
            "3\n",
            "4\n",
            "5\n"
          ]
        }
      ],
      "source": [
        "# Basic Exmaple For While Loop\n",
        "# Condition 1:\n",
        "x = 1\n",
        "while x <= 5:\n",
        "    print(x)\n",
        "    x += 1"
      ]
    },
    {
      "cell_type": "code",
      "execution_count": 5,
      "metadata": {
        "colab": {
          "base_uri": "https://localhost:8080/"
        },
        "id": "QDOJGj5zyuzn",
        "outputId": "73c99175-bd91-4418-c66c-847ec35a17be"
      },
      "outputs": [
        {
          "output_type": "stream",
          "name": "stdout",
          "text": [
            "2\n",
            "3\n",
            "4\n",
            "5\n",
            "6\n"
          ]
        }
      ],
      "source": [
        "#Condition 2:\n",
        "x = 1\n",
        "while x <= 5:\n",
        "    x += 1\n",
        "    print(x)\n"
      ]
    },
    {
      "cell_type": "markdown",
      "metadata": {
        "id": "VJISuLsJytC3"
      },
      "source": [
        "2) for loop:\n",
        "\n",
        "\n",
        "*   A for loop in Python is used to iterate over a sequence (such as a list, tuple, dictionary, string, or range).\n",
        "*   It executes a block of code for each item in the sequence.\n",
        "\n"
      ]
    },
    {
      "cell_type": "code",
      "source": [
        "#Syntax:\n",
        "\n",
        "for variable in sequence:\n",
        "    # Code block to execute"
      ],
      "metadata": {
        "id": "KQ--1XXZFUGB"
      },
      "execution_count": null,
      "outputs": []
    },
    {
      "cell_type": "code",
      "source": [
        "#Basic Example For for loop\n",
        "for i in range(1,6):\n",
        "    print(i)"
      ],
      "metadata": {
        "colab": {
          "base_uri": "https://localhost:8080/"
        },
        "id": "xoO3zxAKFJ5I",
        "outputId": "e981b467-91c2-486d-e1b5-e33367c1f09b"
      },
      "execution_count": 1,
      "outputs": [
        {
          "output_type": "stream",
          "name": "stdout",
          "text": [
            "1\n",
            "2\n",
            "3\n",
            "4\n",
            "5\n"
          ]
        }
      ]
    },
    {
      "cell_type": "code",
      "source": [
        "#Iterating Over a String\n",
        "text = \"Hello\"\n",
        "for char in text:\n",
        "    print(char)"
      ],
      "metadata": {
        "colab": {
          "base_uri": "https://localhost:8080/"
        },
        "id": "NfUD-o2WFsBu",
        "outputId": "ef2222ad-78f9-48aa-d09d-9a64258ba3a6"
      },
      "execution_count": 7,
      "outputs": [
        {
          "output_type": "stream",
          "name": "stdout",
          "text": [
            "H\n",
            "e\n",
            "l\n",
            "l\n",
            "o\n"
          ]
        }
      ]
    },
    {
      "cell_type": "code",
      "source": [
        "#Iterating Over a Tuple\n",
        "numbers = (10, 20, 30, 40)\n",
        "for num in numbers:\n",
        "    print(num)"
      ],
      "metadata": {
        "colab": {
          "base_uri": "https://localhost:8080/"
        },
        "id": "3HN3P69bHOj1",
        "outputId": "fb1d52dd-f4d2-4b52-d6ec-70ca3a925d4f"
      },
      "execution_count": 8,
      "outputs": [
        {
          "output_type": "stream",
          "name": "stdout",
          "text": [
            "10\n",
            "20\n",
            "30\n",
            "40\n"
          ]
        }
      ]
    },
    {
      "cell_type": "code",
      "source": [
        "#Iterating Over a Dictionary (Keys and Values)\n",
        "student = {\"name\": \"Alice\", \"age\": 22, \"grade\": \"A\"}\n",
        "for key, value in student.items():\n",
        "    print(key, \":\", value)"
      ],
      "metadata": {
        "colab": {
          "base_uri": "https://localhost:8080/"
        },
        "id": "-W-4s4jWHS_i",
        "outputId": "14b0b5a0-46ac-4c28-d2f8-531d055dfef3"
      },
      "execution_count": 9,
      "outputs": [
        {
          "output_type": "stream",
          "name": "stdout",
          "text": [
            "name : Alice\n",
            "age : 22\n",
            "grade : A\n"
          ]
        }
      ]
    },
    {
      "cell_type": "code",
      "source": [
        "#Iterating Over a Set\n",
        "fruits = {\"apple\", \"banana\", \"cherry\"}\n",
        "for fruit in fruits:\n",
        "    print(fruit)"
      ],
      "metadata": {
        "colab": {
          "base_uri": "https://localhost:8080/"
        },
        "id": "jn0SegKWHX1h",
        "outputId": "af06ac43-bb83-4872-c407-5d12baf06247"
      },
      "execution_count": 10,
      "outputs": [
        {
          "output_type": "stream",
          "name": "stdout",
          "text": [
            "apple\n",
            "cherry\n",
            "banana\n"
          ]
        }
      ]
    },
    {
      "cell_type": "markdown",
      "source": [
        "# Control Statements:\n",
        "*   Control statements alter the flow of execution in loops and conditional statements.\n",
        "*   The three main control statements are pass, continue, and break.\n"
      ],
      "metadata": {
        "id": "OswzMn8aH28J"
      }
    },
    {
      "cell_type": "markdown",
      "source": [
        "1) pass:\n",
        "*   The pass statement is a placeholder and does nothing when executed.\n",
        "*   It is useful when a block of code is syntactically required but not yet implemented.\n"
      ],
      "metadata": {
        "id": "zvRLAOYbIfks"
      }
    },
    {
      "cell_type": "code",
      "source": [
        "for i in range(5):\n",
        "    if i == 2:\n",
        "        pass  # Placeholder, does nothing\n",
        "    else:\n",
        "        print(i)"
      ],
      "metadata": {
        "colab": {
          "base_uri": "https://localhost:8080/"
        },
        "id": "SJB7cR6RHdJX",
        "outputId": "1f1c9163-9b96-46cb-a049-dc4070bd56bd"
      },
      "execution_count": 3,
      "outputs": [
        {
          "output_type": "stream",
          "name": "stdout",
          "text": [
            "0\n",
            "1\n",
            "3\n",
            "4\n"
          ]
        }
      ]
    },
    {
      "cell_type": "markdown",
      "source": [
        "2) Continue:\n",
        "*   It is used to skip a specific iteration in a loop.\n",
        "*   The loop does not terminate; it continues with the next iteration."
      ],
      "metadata": {
        "id": "bLw4CjHjI_Nj"
      }
    },
    {
      "cell_type": "code",
      "source": [
        "# Skip printing 2\n",
        "for i in range(5):\n",
        "    if i == 2:\n",
        "        continue\n",
        "    print(i)"
      ],
      "metadata": {
        "colab": {
          "base_uri": "https://localhost:8080/"
        },
        "id": "H8gAxou7I7wa",
        "outputId": "329683e3-93bc-4d5b-d095-bd618bce2b28"
      },
      "execution_count": 6,
      "outputs": [
        {
          "output_type": "stream",
          "name": "stdout",
          "text": [
            "0\n",
            "1\n",
            "3\n",
            "4\n"
          ]
        }
      ]
    },
    {
      "cell_type": "code",
      "source": [
        "# Skip even numbers\n",
        "for num in range(1, 6):\n",
        "    if num % 2 == 0:\n",
        "        continue\n",
        "    print(num)"
      ],
      "metadata": {
        "colab": {
          "base_uri": "https://localhost:8080/"
        },
        "id": "9NGTUy9VJR5T",
        "outputId": "21ebf299-db78-4e1a-d38b-3af68838be7e"
      },
      "execution_count": 7,
      "outputs": [
        {
          "output_type": "stream",
          "name": "stdout",
          "text": [
            "1\n",
            "3\n",
            "5\n"
          ]
        }
      ]
    },
    {
      "cell_type": "markdown",
      "source": [
        "3) break:\n",
        "\n",
        "\n",
        "*   It is used to exit a loop immediately.\n",
        "*   Any code after break inside the loop is not executed.\n",
        "\n"
      ],
      "metadata": {
        "id": "DMPjgh5EJf0w"
      }
    },
    {
      "cell_type": "code",
      "source": [
        "for i in range(5):\n",
        "    if i == 3:\n",
        "        break  # Stop the loop when i is 3\n",
        "    print(i)"
      ],
      "metadata": {
        "colab": {
          "base_uri": "https://localhost:8080/"
        },
        "id": "SRrmOEWUJVdk",
        "outputId": "22e52b34-613c-4c7a-f11b-0e140dda0059"
      },
      "execution_count": 10,
      "outputs": [
        {
          "output_type": "stream",
          "name": "stdout",
          "text": [
            "0\n",
            "1\n",
            "2\n"
          ]
        }
      ]
    },
    {
      "cell_type": "code",
      "source": [
        "# Stop loop when word is found\n",
        "words = [\"apple\", \"banana\", \"cherry\", \"mango\"]\n",
        "for word in words:\n",
        "    if word == \"cherry\":\n",
        "        break\n",
        "    print(word)"
      ],
      "metadata": {
        "colab": {
          "base_uri": "https://localhost:8080/"
        },
        "id": "O7QqJsI8Juej",
        "outputId": "d9223a7c-bccb-452d-a52c-db71f92e9012"
      },
      "execution_count": 12,
      "outputs": [
        {
          "output_type": "stream",
          "name": "stdout",
          "text": [
            "apple\n",
            "banana\n"
          ]
        }
      ]
    }
  ],
  "metadata": {
    "colab": {
      "provenance": []
    },
    "kernelspec": {
      "display_name": "Python 3",
      "name": "python3"
    },
    "language_info": {
      "name": "python"
    }
  },
  "nbformat": 4,
  "nbformat_minor": 0
}