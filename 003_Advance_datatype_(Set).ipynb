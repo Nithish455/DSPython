{
  "nbformat": 4,
  "nbformat_minor": 0,
  "metadata": {
    "colab": {
      "provenance": []
    },
    "kernelspec": {
      "name": "python3",
      "display_name": "Python 3"
    },
    "language_info": {
      "name": "python"
    }
  },
  "cells": [
    {
      "cell_type": "markdown",
      "source": [
        "# Set( ):\n",
        "*   Unordered Collection – Elements in a set have no specific order.\n",
        "*   Duplicate values are automatically removed.\n",
        "*   You can add or remove elements, but individual elements are immutable.\n",
        "*   Represented  Using {} and separated by \" , \".\n",
        "\n"
      ],
      "metadata": {
        "id": "2lVtKWLJ-BGS"
      }
    },
    {
      "cell_type": "code",
      "execution_count": 2,
      "metadata": {
        "colab": {
          "base_uri": "https://localhost:8080/"
        },
        "id": "eqosg9GT96gN",
        "outputId": "171d88e0-9107-4221-af71-93041006920d"
      },
      "outputs": [
        {
          "output_type": "stream",
          "name": "stdout",
          "text": [
            "{1, 2, 3, 4, 5, 6}\n",
            "<class 'set'>\n"
          ]
        }
      ],
      "source": [
        "a = {1,2,3,4,5,6}\n",
        "print(a)\n",
        "print(type(a))"
      ]
    },
    {
      "cell_type": "markdown",
      "source": [
        "* We can convert a list into a set using the set() function."
      ],
      "metadata": {
        "id": "yG8sXveZAa74"
      }
    },
    {
      "cell_type": "code",
      "source": [
        "a = set([1,2,3,4,5,6])\n",
        "print(a)\n",
        "print(type(a))"
      ],
      "metadata": {
        "colab": {
          "base_uri": "https://localhost:8080/"
        },
        "id": "sCS7jGglAKPm",
        "outputId": "64302ace-9baa-4384-b62b-e654145b1b39"
      },
      "execution_count": 3,
      "outputs": [
        {
          "output_type": "stream",
          "name": "stdout",
          "text": [
            "{1, 2, 3, 4, 5, 6}\n",
            "<class 'set'>\n"
          ]
        }
      ]
    },
    {
      "cell_type": "markdown",
      "source": [
        " * Duplicates are automatically removed in the set."
      ],
      "metadata": {
        "id": "CawoEhQUByQO"
      }
    },
    {
      "cell_type": "code",
      "source": [
        "a = {1,2,3,4,5,1,2,4,7,8,9}\n",
        "print(a)\n",
        "print(type(a))\n"
      ],
      "metadata": {
        "colab": {
          "base_uri": "https://localhost:8080/"
        },
        "id": "lbrehb4wAs2A",
        "outputId": "a264ee9b-0054-48c2-c1e9-1b6fd9428f7f"
      },
      "execution_count": 5,
      "outputs": [
        {
          "output_type": "stream",
          "name": "stdout",
          "text": [
            "{1, 2, 3, 4, 5, 7, 8, 9}\n",
            "<class 'set'>\n"
          ]
        }
      ]
    },
    {
      "cell_type": "markdown",
      "source": [
        "# Set Methods:\n",
        "1) add():\n",
        "\n",
        "\n",
        "*   Adds an element to the set.\n",
        "\n",
        "\n"
      ],
      "metadata": {
        "id": "6hikwXF8C1uD"
      }
    },
    {
      "cell_type": "code",
      "source": [
        "a = {1,2,3,4,5}\n",
        "a.add(6)\n",
        "print(a)"
      ],
      "metadata": {
        "colab": {
          "base_uri": "https://localhost:8080/"
        },
        "id": "FcEeLutvCwP5",
        "outputId": "f1983fd1-0c61-4a11-f8d0-692550be4563"
      },
      "execution_count": 6,
      "outputs": [
        {
          "output_type": "stream",
          "name": "stdout",
          "text": [
            "{1, 2, 3, 4, 5, 6}\n"
          ]
        }
      ]
    },
    {
      "cell_type": "markdown",
      "source": [
        "2) remove( ):\n",
        "\n",
        "\n",
        "*   Removes the specified element.\n",
        "*   raises an error if not found.\n",
        "\n"
      ],
      "metadata": {
        "id": "zpLgcaY2DDHA"
      }
    },
    {
      "cell_type": "code",
      "source": [
        "a = {1,2,3,4,5,6}\n",
        "a.remove(6)\n",
        "print(a)"
      ],
      "metadata": {
        "colab": {
          "base_uri": "https://localhost:8080/"
        },
        "id": "pj95jebTDBvk",
        "outputId": "4182688e-f4c6-4d9e-e675-e434d224c8d5"
      },
      "execution_count": 7,
      "outputs": [
        {
          "output_type": "stream",
          "name": "stdout",
          "text": [
            "{1, 2, 3, 4, 5}\n"
          ]
        }
      ]
    },
    {
      "cell_type": "markdown",
      "source": [
        "3) update( ):\n",
        "*   used to add multiple elements from another set, list, tuple, or any iterable to an existing set.\n"
      ],
      "metadata": {
        "id": "JTHH2mr7DUjn"
      }
    },
    {
      "cell_type": "code",
      "source": [
        "a = {1,2,3,4,5}\n",
        "b = {6,7,8,9,10}\n",
        "a.update(b)\n",
        "print(a)"
      ],
      "metadata": {
        "colab": {
          "base_uri": "https://localhost:8080/"
        },
        "id": "G-FcFyeVDTLH",
        "outputId": "789156b3-b9c0-4fd2-af50-aff4fdf5f6fb"
      },
      "execution_count": 8,
      "outputs": [
        {
          "output_type": "stream",
          "name": "stdout",
          "text": [
            "{1, 2, 3, 4, 5, 6, 7, 8, 9, 10}\n"
          ]
        }
      ]
    },
    {
      "cell_type": "markdown",
      "source": [
        "4) clear( ):\n",
        "*   Used to remove all elements from a set, making it an empty set.\n"
      ],
      "metadata": {
        "id": "vX79eADjDsnM"
      }
    },
    {
      "cell_type": "code",
      "source": [
        "a.clear()\n",
        "print(a)"
      ],
      "metadata": {
        "colab": {
          "base_uri": "https://localhost:8080/"
        },
        "id": "MNiUYAMHDr4C",
        "outputId": "ccf8974f-376c-4303-bf3a-323a6b8261df"
      },
      "execution_count": 9,
      "outputs": [
        {
          "output_type": "stream",
          "name": "stdout",
          "text": [
            "set()\n"
          ]
        }
      ]
    },
    {
      "cell_type": "markdown",
      "source": [
        "# Set Operators:\n",
        "1) union( ):\n",
        "\n",
        "\n",
        "*   The union() method combines two or more sets\n",
        "*   Returning a new set with all unique elements.\n",
        "\n"
      ],
      "metadata": {
        "id": "rK4aqP3CELLg"
      }
    },
    {
      "cell_type": "code",
      "source": [
        "a = {1,2,3,4,5}\n",
        "b = {4,5,6,7,8}\n",
        "a.union(b)\n"
      ],
      "metadata": {
        "colab": {
          "base_uri": "https://localhost:8080/"
        },
        "id": "buj3XvSdEIKt",
        "outputId": "abe1af94-b627-4e06-cd12-598dc417c38d"
      },
      "execution_count": 11,
      "outputs": [
        {
          "output_type": "execute_result",
          "data": {
            "text/plain": [
              "{1, 2, 3, 4, 5, 6, 7, 8}"
            ]
          },
          "metadata": {},
          "execution_count": 11
        }
      ]
    },
    {
      "cell_type": "code",
      "source": [
        "# union of 'a' and 'b'\n",
        "a|b"
      ],
      "metadata": {
        "colab": {
          "base_uri": "https://localhost:8080/"
        },
        "id": "yxr4kHwEE3yt",
        "outputId": "bfadb60a-1982-4753-a126-e7c32501f6da"
      },
      "execution_count": 12,
      "outputs": [
        {
          "output_type": "execute_result",
          "data": {
            "text/plain": [
              "{1, 2, 3, 4, 5, 6, 7, 8}"
            ]
          },
          "metadata": {},
          "execution_count": 12
        }
      ]
    },
    {
      "cell_type": "markdown",
      "source": [
        "2) intersection( ):\n",
        "\n",
        "\n",
        "*   Returns a new set containing only the common elements of two or more sets.\n",
        "*   The result contains only unique elements that exist in all sets.\n",
        "\n"
      ],
      "metadata": {
        "id": "V0tBz_WkFFwX"
      }
    },
    {
      "cell_type": "code",
      "source": [
        "a = {1,2,3,4,5}\n",
        "b = {4,5,6,7,8}\n",
        "a.intersection(b)"
      ],
      "metadata": {
        "colab": {
          "base_uri": "https://localhost:8080/"
        },
        "id": "fyocj2JHFEd8",
        "outputId": "d600c5d5-47ff-468d-d996-576f68882850"
      },
      "execution_count": 13,
      "outputs": [
        {
          "output_type": "execute_result",
          "data": {
            "text/plain": [
              "{4, 5}"
            ]
          },
          "metadata": {},
          "execution_count": 13
        }
      ]
    },
    {
      "cell_type": "code",
      "source": [
        "# intersection of 'a' and 'b'\n",
        "a&b"
      ],
      "metadata": {
        "colab": {
          "base_uri": "https://localhost:8080/"
        },
        "id": "Zs6X6EsUFgJF",
        "outputId": "52a8a614-e0a7-459c-d22d-23366453295d"
      },
      "execution_count": 14,
      "outputs": [
        {
          "output_type": "execute_result",
          "data": {
            "text/plain": [
              "{4, 5}"
            ]
          },
          "metadata": {},
          "execution_count": 14
        }
      ]
    },
    {
      "cell_type": "markdown",
      "source": [
        "3) Difference( ):\n",
        "*   Returns a new set containing elements that are in set A but not in set B."
      ],
      "metadata": {
        "id": "hLC0nO0pFoq1"
      }
    },
    {
      "cell_type": "code",
      "source": [
        "# Difference (\"a-b\")\n",
        "a = {1,2,3,4,5}\n",
        "b = {4,5,6,7,8}\n",
        "a-b"
      ],
      "metadata": {
        "colab": {
          "base_uri": "https://localhost:8080/"
        },
        "id": "Y2M1UVFMFnnV",
        "outputId": "11723e6f-af4c-4223-f3af-c9821b7062f6"
      },
      "execution_count": 16,
      "outputs": [
        {
          "output_type": "execute_result",
          "data": {
            "text/plain": [
              "{1, 2, 3}"
            ]
          },
          "metadata": {},
          "execution_count": 16
        }
      ]
    },
    {
      "cell_type": "code",
      "source": [
        "# Difference (\"b-a\")\n",
        "a = {1,2,3,4,5}\n",
        "b = {4,5,6,7,8}\n",
        "b-a"
      ],
      "metadata": {
        "colab": {
          "base_uri": "https://localhost:8080/"
        },
        "id": "pmU768nnG04Z",
        "outputId": "49ac9c72-e6e9-4b1a-e549-bc2f07469d10"
      },
      "execution_count": 17,
      "outputs": [
        {
          "output_type": "execute_result",
          "data": {
            "text/plain": [
              "{6, 7, 8}"
            ]
          },
          "metadata": {},
          "execution_count": 17
        }
      ]
    },
    {
      "cell_type": "markdown",
      "source": [
        "4) Symmetric_difference( ):\n",
        "\n",
        "\n",
        "*   Returns a new set containing elements that are in either set A or set B, but not in both.\n",
        "*   You can use the ^ (caret) operator.\n",
        "*   It returns a new set instead of modifying existing ones.\n",
        "*   The result contains only unique elements.\n",
        "\n",
        "\n",
        "\n"
      ],
      "metadata": {
        "id": "srKC8iCAHTde"
      }
    },
    {
      "cell_type": "code",
      "source": [
        "a = {1, 2, 3, 4}\n",
        "b = {3, 4, 5, 6}\n",
        "result = a.symmetric_difference(b)\n",
        "print(result)"
      ],
      "metadata": {
        "colab": {
          "base_uri": "https://localhost:8080/"
        },
        "id": "UHhYorn_HAs7",
        "outputId": "9dc433cc-d05a-43c4-9315-51ce1c0a3236"
      },
      "execution_count": 19,
      "outputs": [
        {
          "output_type": "stream",
          "name": "stdout",
          "text": [
            "{1, 2, 5, 6}\n"
          ]
        }
      ]
    },
    {
      "cell_type": "code",
      "source": [
        "a^b"
      ],
      "metadata": {
        "colab": {
          "base_uri": "https://localhost:8080/"
        },
        "id": "Unw5v_snH5Kn",
        "outputId": "ad38237b-1df3-4e52-ea9e-1e100080eda8"
      },
      "execution_count": 20,
      "outputs": [
        {
          "output_type": "execute_result",
          "data": {
            "text/plain": [
              "{1, 2, 5, 6}"
            ]
          },
          "metadata": {},
          "execution_count": 20
        }
      ]
    }
  ]
}