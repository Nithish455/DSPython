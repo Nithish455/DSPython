{
  "nbformat": 4,
  "nbformat_minor": 0,
  "metadata": {
    "colab": {
      "provenance": []
    },
    "kernelspec": {
      "name": "python3",
      "display_name": "Python 3"
    },
    "language_info": {
      "name": "python"
    }
  },
  "cells": [
    {
      "cell_type": "markdown",
      "source": [
        "#Oops:Object Oriented Programming\n",
        "*   Oops is a fundamental concept in Python, empowering developers to build modular, maintainable, and scalable applications.\n",
        "*   OOPs is a way of organizing code that uses objects and classes to represent real-world entities and their behavior.\n",
        "*   In OOPs, object has attributes thing that has specific data and can perform certain actions using methods.\n",
        "\n",
        "**1)  Class:**\n",
        "*   A class is a collection of objects. Classes are blueprints for creating objects.\n",
        "*   A class defines a set of attributes and methods that the created objects (instances) can have.\n",
        "\n",
        "**Some points on Python class:**  \n",
        "*   Classes are created by keyword class.           \n",
        "* Attributes are the variables that belong to a class.                 \n",
        "*Attributes are always public and can be accessed using the dot (.) operator.     \n",
        "Example: Myclass.Myattribute\n",
        "\n",
        "2)Object:\n",
        "* An Object is an instance of a Class.\n",
        "* It represents a specific implementation of the class and holds its own data.\n",
        "         \n",
        "**An object consists of:**\n",
        "\n",
        "* State: It is represented by the attributes and reflects the properties of an object.\n",
        "* Behavior: It is represented by the methods of an object and reflects the response of an object to other objects.\n",
        "* Identity: It gives a unique name to an object and enables one object to interact with other objects.\n"
      ],
      "metadata": {
        "id": "BCT0OYYlXuK_"
      }
    },
    {
      "cell_type": "code",
      "execution_count": null,
      "metadata": {
        "id": "14mNgZKyXXv7"
      },
      "outputs": [],
      "source": [
        "# Syntax to define a class\n",
        "class ClassName:\n",
        "    def __init__(self, parameters):\n",
        "        self.attribute = parameters\n",
        "\n",
        "    def method_name(self):\n",
        "        pass"
      ]
    },
    {
      "cell_type": "code",
      "source": [
        "# Syntax to define a object\n",
        "object_name = ClassName(arguments)"
      ],
      "metadata": {
        "id": "0mDHG1zWZ3oO"
      },
      "execution_count": null,
      "outputs": []
    },
    {
      "cell_type": "markdown",
      "source": [
        "# Inheritance:\n",
        "*   Inheritance is a fundamental concept in OOP's that allows a class (called a child or derived class) to inherit attributes and methods from another class (called a parent or base class).\n",
        "*   This promotes code reuse, modularity, and a hierarchical class structure. In this article, we’ll explore inheritance in Python.\n",
        "\n",
        "**Explanation of Python Inheritance Syntax:**       \n",
        "1) Parent Class:\n",
        "* This is the base class from which other classes inherit.\n",
        "* It contains attributes and methods that the child class can reuse.\n",
        "\n",
        "2) Child Class:\n",
        "* This is the derived class that inherits from the parent class.\n",
        "* The syntax for inheritance is class ChildClass(ParentClass).\n",
        "* The child class automatically gets all attributes and methods of the parent class unless overridden.\n"
      ],
      "metadata": {
        "id": "9pphTErvbIzf"
      }
    },
    {
      "cell_type": "code",
      "source": [
        "#Inheritance\n",
        "class ParentClass:\n",
        "    def parent_method(self):\n",
        "        pass\n",
        "\n",
        "class ChildClass(ParentClass):\n",
        "    def child_method(self):\n",
        "        pass"
      ],
      "metadata": {
        "id": "-X9LCjMwb_Jx"
      },
      "execution_count": null,
      "outputs": []
    },
    {
      "cell_type": "markdown",
      "source": [
        "# Encapsulation:\n",
        "*   Encapsulation refers to the bundling of data (attributes) and methods (functions) that operate on the data into a single unit, typically a class.\n",
        "*   It also restricts direct access to some components, which helps protect the integrity of the data and ensures proper usage.\n",
        "\n",
        "**How Encapsulation Works :**\n",
        "\n",
        "* Data Hiding: The variables (attributes) are kept private or protected,\n",
        "meaning they are not accessible directly from outside the class. Instead, they can only be accessed or modified through the methods.\n",
        "* Access through Methods: Methods act as the interface through which external code interacts with the data stored in the variables. For instance, getters and setters are common methods used to retrieve and update the value of a private variable.\n",
        "* Control and Security: By encapsulating the variables and only allowing their manipulation via methods, the class can enforce rules on how the variables are accessed or modified, thus maintaining control and security over the data.\n",
        "\n",
        "1) Protected Variables and Methods:\n",
        "- Can be accessed from anywhere (inside or outside the class).\n",
        "- No restrictions on modifying or reading them.\n",
        "- Defined using single underscores(_) in python.\n",
        "\n",
        "2) Private Variables and Methods:\n",
        "- Cannot be accessed directly from outside the class.\n",
        "- Used to hide sensitive data.\n",
        "- Defined using double underscores (__) in Python.\n"
      ],
      "metadata": {
        "id": "ZlYVcOC8cn0V"
      }
    },
    {
      "cell_type": "code",
      "source": [
        "#Encapsulation\n",
        "class ClassName:\n",
        "    def __init__(self):\n",
        "        self.public_var = \"I am public\"\n",
        "        self._protected_var = \"I am protected\"\n",
        "        self.__private_var = \"I am private\"\n",
        "\n",
        "    def get_private_var(self):\n",
        "        return self.__private_var\n"
      ],
      "metadata": {
        "id": "5XgaSNJjcofq"
      },
      "execution_count": null,
      "outputs": []
    },
    {
      "cell_type": "markdown",
      "source": [
        "# Polymorphism:\n",
        "*   Polymorphism is a foundational concept in programming that allows entities like functions, methods or operators to behave differently based on the type of data they are handling.\n",
        "*   Derived from Greek, the term literally means “many forms”.\n",
        "\n"
      ],
      "metadata": {
        "id": "2juCvBGhb2bj"
      }
    },
    {
      "cell_type": "code",
      "source": [
        "#Polymorphism\n",
        "class ParentClass:\n",
        "    def method(self):\n",
        "        pass\n",
        "\n",
        "class ChildClass1(ParentClass):\n",
        "    def method(self):\n",
        "        pass\n",
        "\n",
        "class ChildClass2(ParentClass):\n",
        "    def method(self):\n",
        "        pass"
      ],
      "metadata": {
        "id": "BLxCaq15cmQX"
      },
      "execution_count": null,
      "outputs": []
    },
    {
      "cell_type": "markdown",
      "source": [
        "# Abstraction:\n",
        "Abstraction is an Object-Oriented Programming (OOP) concept that hides the complex implementation of a feature and only shows the necessary details.\n",
        "\n",
        "- It allows users to focus on what an object does rather than how it does it.\n",
        "-  Achieved using abstract classes and abstract methods in Python."
      ],
      "metadata": {
        "id": "kBSnOZtVqB8g"
      }
    },
    {
      "cell_type": "code",
      "source": [
        "from abc import ABC, abstractmethod\n",
        "\n",
        "class ClassName(ABC):\n",
        "    @abstractmethod\n",
        "    def method_name(self):\n",
        "        pass"
      ],
      "metadata": {
        "id": "5zMdOn1ItHeu"
      },
      "execution_count": null,
      "outputs": []
    },
    {
      "cell_type": "markdown",
      "source": [
        "#File Handling:\n",
        "*   Python provides different modes to handle files, such as 'r' for reading, 'w' for writing (overwrites existing content), and 'a' for appending data.\n",
        "\n",
        "1. **Modes in File Handling**:  \n",
        "   * `'r'` → Read mode (default).  \n",
        "   * `'w'` → Write mode (overwrites existing content).  \n",
        "   - `'a'` → Append mode (adds content to the file).  \n",
        "   - `'x'` → Exclusive creation mode (fails if the file exists).  \n",
        "   - `'b'` → Binary mode (e.g., images, PDFs).  \n",
        "   - `'t'` → Text mode (default).  \n",
        "\n",
        "2. **Opening and Closing Files**:  \n",
        "   - Use `open(\"filename\", \"mode\")` to open a file.  \n",
        "   - Always close files using `file.close()` or `with open(...) as file:` for automatic closing.  \n",
        "\n",
        "3. **Reading from a File**:  \n",
        "   - `file.read()` → Reads the entire file.  \n",
        "   - `file.readline()` → Reads a single line.  \n",
        "   - `file.readlines()` → Reads all lines into a list.  \n",
        "\n",
        "4. **Writing to a File**:  \n",
        "   - `file.write(\"text\")` → Writes text to the file.  \n",
        "   - `file.writelines(list_of_strings)` → Writes multiple lines.  \n",
        "\n",
        "5. **Working with Binary Files**:  \n",
        "   - Use `'rb'` for reading and `'wb'` for writing binary files.  \n"
      ],
      "metadata": {
        "id": "UsTs1cbzeOsz"
      }
    },
    {
      "cell_type": "code",
      "source": [
        "# Read mode\n",
        "file = open(\"filename.txt\", \"r\")  # Opens the file for reading\n",
        "\n",
        "# Write mode\n",
        "file = open(\"filename.txt\", \"w\")  # Opens the file for writing (overwrites content)\n",
        "\n",
        "# Append mode\n",
        "file = open(\"filename.txt\", \"a\")  # Opens the file for appending (adds to the end)\n",
        "\n",
        "# Exclusive creation mode\n",
        "file = open(\"filename.txt\", \"x\")  # Creates a new file, raises error if file exists\n",
        "\n",
        "# Binary mode (reading)\n",
        "file = open(\"filename.txt\", \"rb\")  # Opens the file in binary read mode\n",
        "\n",
        "# Binary mode (writing)\n",
        "file = open(\"filename.txt\", \"wb\")  # Opens the file in binary write mode\n",
        "\n",
        "# Text mode (default)\n",
        "file = open(\"filename.txt\", \"rt\")  # Opens the file in text read mode (default)\n",
        "\n",
        "# Write and read mode\n",
        "file = open(\"filename.txt\", \"r+\")  # Opens the file for both reading and writing\n",
        "\n",
        "# Append and read mode\n",
        "file = open(\"filename.txt\", \"a+\")  # Opens the file for both appending and reading\n"
      ],
      "metadata": {
        "id": "seWHUSPBfNjp"
      },
      "execution_count": null,
      "outputs": []
    },
    {
      "cell_type": "markdown",
      "source": [
        "# Exception Handling in files:\n",
        "*   Exception handling is a way to deal with errors or unexpected situations in a program without crashing it.\n",
        "\n",
        "1) Exception: An error that happens during program execution (e.g., dividing by zero, accessing a non-existent file).          \n",
        "2) Handling: Instead of stopping the program, we \"catch\" the error and take appropriate action.\n",
        "\n",
        "**1) try Block:**\n",
        "\n",
        "- This is where you put the code that might cause an error.\n",
        "\n",
        "- If an error occurs, Python jumps to an except block (if provided) or directly to finally.\n",
        "\n",
        "**2) finally Block:**\n",
        "\n",
        "- This block always executes, whether an error happens or not.\n",
        "- It's useful for cleanup actions like closing a file, releasing resources, or displaying a message.\n"
      ],
      "metadata": {
        "id": "HaZOq7FtlJsg"
      }
    },
    {
      "cell_type": "code",
      "source": [
        "try:\n",
        "    # Code that may cause an exception\n",
        "except ExceptionType1:\n",
        "    # Code to handle ExceptionType1\n",
        "except ExceptionType2:\n",
        "    # Code to handle ExceptionType2\n",
        "else:\n",
        "    # Code to execute if no exceptions occur (optional)\n",
        "finally:\n",
        "    # Code that always executes (optional)\n",
        "\n",
        "\n",
        "# try      – The block where you write code that might cause an error.\n",
        "# except   – The block that catches and handles specific exceptions.\n",
        "# else     – Runs only if no exception occurs.(optional)\n",
        "# finally  – Runs whether an exception occurs or not.(optional)"
      ],
      "metadata": {
        "id": "7XUn29-2lJDX"
      },
      "execution_count": null,
      "outputs": []
    }
  ]
}