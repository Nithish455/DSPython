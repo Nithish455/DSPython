{
  "nbformat": 4,
  "nbformat_minor": 0,
  "metadata": {
    "colab": {
      "provenance": []
    },
    "kernelspec": {
      "name": "python3",
      "display_name": "Python 3"
    },
    "language_info": {
      "name": "python"
    }
  },
  "cells": [
    {
      "cell_type": "code",
      "source": [
        "#06-02-2025\n",
        "#Explain about list(5 examples)\n",
        "#Explain about index and slicing(5 examples)\n",
        "#list methods\n"
      ],
      "metadata": {
        "id": "Vu0UE_vz48J7"
      },
      "execution_count": null,
      "outputs": []
    },
    {
      "cell_type": "markdown",
      "source": [
        "# List:\n",
        "\n",
        "*   A list in Python is used to keep multiple items together.\n",
        "*   It's a collection that can store different types of data (numbers, words, or even other lists).\n",
        "*   Lists are ordered(the items stay in the same sequence), and they can be changed mutable(add, remove, or modify items).\n"
      ],
      "metadata": {
        "id": "Rb_bAxM79kih"
      }
    },
    {
      "cell_type": "code",
      "source": [
        "numbers = [1, 2, 3, 4, 5]\n",
        "print(numbers)\n",
        "\n",
        "colors = [\"red\", \"green\", \"blue\"]\n",
        "print(colors)\n",
        "\n",
        "fruits = [\"apple\", \"banana\", \"cherry\", \"mango\"]\n",
        "print(fruits)\n",
        "\n",
        "person = [\"Alice\", 25, 5.6, True]\n",
        "print(person)\n",
        "\n",
        "price=[(\"tomato\",15.5),(\"carrot\",50),(\"lemon\",20)]\n",
        "print(price)\n",
        "\n"
      ],
      "metadata": {
        "colab": {
          "base_uri": "https://localhost:8080/"
        },
        "id": "Z2_xW1WH-LZh",
        "outputId": "deea23ee-b804-4ed9-e8b1-9e3c852c3a9b"
      },
      "execution_count": null,
      "outputs": [
        {
          "output_type": "stream",
          "name": "stdout",
          "text": [
            "[1, 2, 3, 4, 5]\n",
            "['red', 'green', 'blue']\n",
            "['apple', 'banana', 'cherry', 'mango']\n",
            "['Alice', 25, 5.6, True]\n",
            "[('tomato', 15.5), ('carrot', 50), ('lemon', 20)]\n"
          ]
        }
      ]
    },
    {
      "cell_type": "markdown",
      "source": [
        "# INDEXING\n",
        "*   Indexing is used to access elements from a list.\n",
        "*   Positive Indexing starts from 0 (left to right).\n",
        "*   Negative Indexing starts from -1 (right to left).\n"
      ],
      "metadata": {
        "id": "s2hC_3IfAA3H"
      }
    },
    {
      "cell_type": "code",
      "source": [
        "fruits = [\"apple\", \"banana\", \"cherry\", \"mango\", \"orange\"]\n",
        "print(fruits[0])\n",
        "\n",
        "fruits = [\"apple\", \"banana\", \"cherry\", \"mango\", \"orange\"]\n",
        "print(fruits[-1])\n",
        "\n",
        "numbers = [10, 20, 30, 40, 50]\n",
        "print(numbers[1])\n",
        "print(numbers[-4])\n",
        "\n",
        "letters = [\"A\", \"B\", \"C\", \"D\", \"E\"]\n",
        "print(letters[2])\n",
        "\n",
        "mix=[1,\"A\",22.68,True]\n",
        "print(mix[0])"
      ],
      "metadata": {
        "colab": {
          "base_uri": "https://localhost:8080/"
        },
        "id": "CYir_aIZ__rU",
        "outputId": "487d4f28-53df-4fd3-c3d8-ebe2026c2abc"
      },
      "execution_count": null,
      "outputs": [
        {
          "output_type": "stream",
          "name": "stdout",
          "text": [
            "apple\n",
            "orange\n",
            "20\n",
            "20\n",
            "C\n",
            "1\n"
          ]
        }
      ]
    },
    {
      "cell_type": "markdown",
      "source": [
        "# SLICING\n",
        "*   Slicing is a technique used to extract a portion of a list, string, or tuple by specifying a range of indices.\n",
        "*    It helps in selecting multiple elements efficiently without using loops.\n",
        "\n"
      ],
      "metadata": {
        "id": "GxJ4-EPgB-nW"
      }
    },
    {
      "cell_type": "code",
      "source": [
        "numbers = [10, 20, 30, 40, 50, 60]\n",
        "print(numbers[1:4])  #list[start:end]\n",
        "\n",
        "letters = [\"A\", \"B\", \"C\", \"D\", \"E\"]\n",
        "print(letters[:3])  #list[:end]\n",
        "\n",
        "fruits = [\"apple\", \"banana\", \"cherry\", \"mango\", \"orange\"]\n",
        "print(fruits[2:])  #list[start:]\n",
        "\n",
        "animals = [\"cat\", \"dog\", \"rabbit\", \"elephant\", \"lion\"]\n",
        "print(animals[-4:-1])  #list[-start:-end]\n",
        "\n",
        "data = [100, 200, 300, 400, 500]\n",
        "print(data[::-1]) #Reversing List (list[::-1])"
      ],
      "metadata": {
        "colab": {
          "base_uri": "https://localhost:8080/"
        },
        "id": "ufKoPSIkCoTp",
        "outputId": "67c4ee98-7118-4414-8012-0b7c886194f2"
      },
      "execution_count": null,
      "outputs": [
        {
          "output_type": "stream",
          "name": "stdout",
          "text": [
            "[20, 30, 40]\n",
            "['A', 'B', 'C']\n",
            "['cherry', 'mango', 'orange']\n",
            "['dog', 'rabbit', 'elephant']\n",
            "[500, 400, 300, 200, 100]\n"
          ]
        }
      ]
    },
    {
      "cell_type": "code",
      "source": [
        "#07-02-2025\n",
        "#explain About list methods"
      ],
      "metadata": {
        "id": "p69ASI7K_I88"
      },
      "execution_count": null,
      "outputs": []
    },
    {
      "cell_type": "markdown",
      "source": [
        "# List (Methods)\n",
        "1.append( )\n",
        "*  Adds a single element to the end of the list.\n",
        "*  Modifies the original list.\n",
        "\n",
        "\n"
      ],
      "metadata": {
        "id": "PqUF6S9xiD5G"
      }
    },
    {
      "cell_type": "code",
      "source": [
        "list=[3,6,9,12,15]\n",
        "list.append(18)\n",
        "print(list)"
      ],
      "metadata": {
        "id": "n98qfMvsu4e8",
        "colab": {
          "base_uri": "https://localhost:8080/"
        },
        "outputId": "08c6af91-47d5-4a9f-a8cb-e46cdbb98f8a"
      },
      "execution_count": null,
      "outputs": [
        {
          "output_type": "stream",
          "name": "stdout",
          "text": [
            "[3, 6, 9, 12, 15, 18]\n"
          ]
        }
      ]
    },
    {
      "cell_type": "markdown",
      "source": [
        "2.Extend( )\n",
        "*   Adds multiple elements (iterable) at the end of the list.\n",
        "*   Similar to append(), but adds multiple values.\n",
        "\n"
      ],
      "metadata": {
        "id": "FuoDwx5m2PPN"
      }
    },
    {
      "cell_type": "code",
      "source": [
        "list_1 = [2,4,6,8,10]\n",
        "list_2 = [12,14,16]\n",
        "list_1.extend(list_2)\n",
        "print(list_1)"
      ],
      "metadata": {
        "colab": {
          "base_uri": "https://localhost:8080/"
        },
        "id": "oqme13gk2qJu",
        "outputId": "b7737945-9797-4963-f577-431517fb8c8b"
      },
      "execution_count": null,
      "outputs": [
        {
          "output_type": "stream",
          "name": "stdout",
          "text": [
            "[2, 4, 6, 8, 10, 12, 14, 16]\n"
          ]
        }
      ]
    },
    {
      "cell_type": "markdown",
      "source": [
        "3.pop( )\n",
        "*   Removes and returns the element at a given index.\n",
        "*   Default is the last element."
      ],
      "metadata": {
        "id": "MNmqKYsI2-Z4"
      }
    },
    {
      "cell_type": "code",
      "source": [
        "list = [3,6,9,12,15]\n",
        "list.pop(2)\n",
        "print(list)"
      ],
      "metadata": {
        "colab": {
          "base_uri": "https://localhost:8080/"
        },
        "id": "95T6H9ZT3VyS",
        "outputId": "7d1d7b70-7839-47cc-fbe2-601e641b6289"
      },
      "execution_count": null,
      "outputs": [
        {
          "output_type": "stream",
          "name": "stdout",
          "text": [
            "[3, 6, 12, 15]\n"
          ]
        }
      ]
    },
    {
      "cell_type": "markdown",
      "source": [
        "4.Insert( )\n",
        "*   Inserts an element at a specific index.\n",
        "*   Moves the existing elements forward.\n",
        "\n"
      ],
      "metadata": {
        "id": "3tdGvMYa3xjH"
      }
    },
    {
      "cell_type": "code",
      "source": [
        "list = [2,4,6,10,12]\n",
        "list.insert (3,8)\n",
        "print(list)"
      ],
      "metadata": {
        "colab": {
          "base_uri": "https://localhost:8080/"
        },
        "id": "8W5M-Lxu4V0P",
        "outputId": "a4275747-4257-4296-801e-67a049328fb4"
      },
      "execution_count": null,
      "outputs": [
        {
          "output_type": "stream",
          "name": "stdout",
          "text": [
            "[2, 4, 6, 8, 10, 12]\n"
          ]
        }
      ]
    },
    {
      "cell_type": "markdown",
      "source": [
        "5.len ( )\n",
        "*   Returns the total number of elements.\n",
        "*   It works with various data structures like lists, tuples, strings, dictionaries, and sets."
      ],
      "metadata": {
        "id": "hdkVZBeE4ov2"
      }
    },
    {
      "cell_type": "code",
      "source": [
        "list = [2,4,6,8,10,12]\n",
        "len(list)"
      ],
      "metadata": {
        "colab": {
          "base_uri": "https://localhost:8080/"
        },
        "id": "igsl6p2k5JXV",
        "outputId": "ead89a80-8d15-4799-baf2-d7f506221383"
      },
      "execution_count": null,
      "outputs": [
        {
          "output_type": "execute_result",
          "data": {
            "text/plain": [
              "6"
            ]
          },
          "metadata": {},
          "execution_count": 6
        }
      ]
    },
    {
      "cell_type": "markdown",
      "source": [
        "6.count( )\n",
        "*   Returns the number of occurrences of value in the iterable.\n",
        "*   Works with lists, tuples, and strings.\n",
        "*   If the value is not found, it returns 0."
      ],
      "metadata": {
        "id": "NyesEEJh5bjp"
      }
    },
    {
      "cell_type": "code",
      "source": [
        "list = [2,4,2,6,2,8,2,10,4]\n",
        "list.count(2)"
      ],
      "metadata": {
        "colab": {
          "base_uri": "https://localhost:8080/"
        },
        "id": "XbQNDNZf5434",
        "outputId": "3ce395e0-eb6e-4d7a-fff3-46ed328a1975"
      },
      "execution_count": null,
      "outputs": [
        {
          "output_type": "execute_result",
          "data": {
            "text/plain": [
              "4"
            ]
          },
          "metadata": {},
          "execution_count": 8
        }
      ]
    },
    {
      "cell_type": "markdown",
      "source": [
        "7.sort ( )\n",
        "*   sorts the list in ascending order by default."
      ],
      "metadata": {
        "id": "cZ6_LHDb6O-P"
      }
    },
    {
      "cell_type": "code",
      "source": [
        "# sort() integer values\n",
        "list = [12,10,8,6,4,2]\n",
        "list.sort()\n",
        "print(list)"
      ],
      "metadata": {
        "colab": {
          "base_uri": "https://localhost:8080/"
        },
        "id": "Uf6TeFwb6pnn",
        "outputId": "6eacbf44-3247-476b-a81a-9d343319e3ae"
      },
      "execution_count": null,
      "outputs": [
        {
          "output_type": "stream",
          "name": "stdout",
          "text": [
            "[2, 4, 6, 8, 10, 12]\n"
          ]
        }
      ]
    },
    {
      "cell_type": "markdown",
      "source": [
        "8.sort() string Values\n",
        "*    Arranges strings in A-Z order.\n",
        "*   It follows ASCII values (uppercase letters come before lowercase letters).\n"
      ],
      "metadata": {
        "id": "6Vg_vHhCDOUB"
      }
    },
    {
      "cell_type": "code",
      "source": [
        "# Sort() string values\n",
        "list= ['A','b','c','D','E' ]\n",
        "list.sort()\n",
        "print(list)"
      ],
      "metadata": {
        "colab": {
          "base_uri": "https://localhost:8080/"
        },
        "id": "fXUK5yZFCsUZ",
        "outputId": "6cda3c43-bd71-49b9-b511-3a089fa3c567"
      },
      "execution_count": null,
      "outputs": [
        {
          "output_type": "stream",
          "name": "stdout",
          "text": [
            "['A', 'D', 'E', 'b', 'c']\n"
          ]
        }
      ]
    },
    {
      "cell_type": "markdown",
      "source": [
        "9.reverse()\n",
        "\n",
        "\n",
        "*   It reverses the order of elements.\n",
        "*   Works only for lists (not for tuples, sets, or dictionaries)."
      ],
      "metadata": {
        "id": "2wqYaDSG6xTG"
      }
    },
    {
      "cell_type": "code",
      "source": [
        "list = [18,15,12,9,6,3]\n",
        "list.reverse()\n",
        "print(list)"
      ],
      "metadata": {
        "colab": {
          "base_uri": "https://localhost:8080/"
        },
        "id": "jkt4llig7Dzq",
        "outputId": "39ab069f-5774-4cbd-a322-8cd7ff60e570"
      },
      "execution_count": null,
      "outputs": [
        {
          "output_type": "stream",
          "name": "stdout",
          "text": [
            "[3, 6, 9, 12, 15, 18]\n"
          ]
        }
      ]
    },
    {
      "cell_type": "markdown",
      "source": [
        "10.clear( )\n",
        "\n",
        "*   Removes all elements from the list but keeps the list itself.\n",
        "*   It modifies the original list instead of creating a new one."
      ],
      "metadata": {
        "id": "-tYHDOmj81B9"
      }
    },
    {
      "cell_type": "code",
      "source": [
        "list= [2,4,6,8,10,12]\n",
        "list.clear()\n",
        "print(list)"
      ],
      "metadata": {
        "id": "tqVDskBD88Zv",
        "colab": {
          "base_uri": "https://localhost:8080/"
        },
        "outputId": "98d6be7d-73a9-4395-be26-1601078aba36"
      },
      "execution_count": null,
      "outputs": [
        {
          "output_type": "stream",
          "name": "stdout",
          "text": [
            "[]\n"
          ]
        }
      ]
    },
    {
      "cell_type": "markdown",
      "source": [
        "11.copy()\n",
        "*   creates a new list with the same elements as the original.\n",
        "*   It is useful when you need to preserve the original list."
      ],
      "metadata": {
        "id": "2ChCBqM2A8Sm"
      }
    },
    {
      "cell_type": "code",
      "source": [
        "list =[2,4,6,8,10,12]\n",
        "list_1= list.copy()\n",
        "print(list_1)"
      ],
      "metadata": {
        "colab": {
          "base_uri": "https://localhost:8080/"
        },
        "id": "tXKYkM21BJhu",
        "outputId": "482fba1f-87da-4758-8356-96a59f54d013"
      },
      "execution_count": null,
      "outputs": [
        {
          "output_type": "stream",
          "name": "stdout",
          "text": [
            "[2, 4, 6, 8, 10, 12]\n"
          ]
        }
      ]
    },
    {
      "cell_type": "markdown",
      "source": [
        "12.index()\n",
        "*   Returns the index of the first occurrence of value.\n",
        "*   If the value is not found, it raises a ValueError."
      ],
      "metadata": {
        "id": "Cf9Uz2yYBRTP"
      }
    },
    {
      "cell_type": "code",
      "source": [
        "list = [2,4,6,8,10,12]\n",
        "list.index(8)"
      ],
      "metadata": {
        "colab": {
          "base_uri": "https://localhost:8080/"
        },
        "id": "mkHZX57kBiBB",
        "outputId": "e0342abc-021e-4336-d132-ce05e13fc7d5"
      },
      "execution_count": null,
      "outputs": [
        {
          "output_type": "execute_result",
          "data": {
            "text/plain": [
              "3"
            ]
          },
          "metadata": {},
          "execution_count": 17
        }
      ]
    },
    {
      "cell_type": "code",
      "source": [],
      "metadata": {
        "id": "0D-vnfL_jAoN"
      },
      "execution_count": null,
      "outputs": []
    }
  ]
}