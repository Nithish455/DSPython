{
  "nbformat": 4,
  "nbformat_minor": 0,
  "metadata": {
    "colab": {
      "provenance": []
    },
    "kernelspec": {
      "name": "python3",
      "display_name": "Python 3"
    },
    "language_info": {
      "name": "python"
    }
  },
  "cells": [
    {
      "cell_type": "markdown",
      "source": [
        "# Functions:\n",
        "*   Functions are blocks of reusable code that perform a specific task.\n",
        "*   They make the code more modular, readable, and efficient.\n",
        "*   We have two types in functions:\n",
        "    1.   Built-in Function: That are ready to use.\n",
        "    2.   User define functions: are created by the programmer for specific tasks.\n",
        "\n",
        "\n",
        "\n",
        "\n",
        "\n",
        "\n",
        "\n",
        "\n"
      ],
      "metadata": {
        "id": "vafhint2aSCS"
      }
    },
    {
      "cell_type": "code",
      "execution_count": null,
      "metadata": {
        "id": "neUC10CraN1I"
      },
      "outputs": [],
      "source": [
        "#syntax\n",
        "def function_name (parameters):\n",
        "\n",
        "  statement(s)\n",
        "\n",
        "  return (#optional)"
      ]
    },
    {
      "cell_type": "code",
      "source": [
        "a = int(input(\"Enter a number: \"))\n",
        "b = int(input(\"Enter a number: \"))\n",
        "def arth(a,b):\n",
        "  sum = a+b\n",
        "  sub = a-b\n",
        "  mul = a*b\n",
        "  div = a/b\n",
        "  mod = a%b\n",
        "  return sum,sub,mul,div,mod\n",
        "arth(a,b)"
      ],
      "metadata": {
        "colab": {
          "base_uri": "https://localhost:8080/"
        },
        "id": "CyGnQIMBbkri",
        "outputId": "d6bcc261-c5dd-40a5-f543-8f9aeb6fb037"
      },
      "execution_count": 8,
      "outputs": [
        {
          "name": "stdout",
          "output_type": "stream",
          "text": [
            "Enter a number: 22\n",
            "Enter a number: 4\n"
          ]
        },
        {
          "output_type": "execute_result",
          "data": {
            "text/plain": [
              "(26, 18, 88, 5.5, 2)"
            ]
          },
          "metadata": {},
          "execution_count": 8
        }
      ]
    },
    {
      "cell_type": "code",
      "source": [
        "user = input(\"enter a string: \")\n",
        "vowels = ['a','e','i','o','u','A','E','I','O','U']\n",
        "for i in user:\n",
        "  if i in vowels:\n",
        "    print(i,\"is vowel\")\n",
        "  else:\n",
        "    print(i,\"is not vowel\")"
      ],
      "metadata": {
        "colab": {
          "base_uri": "https://localhost:8080/"
        },
        "id": "4uy0mGiycgx4",
        "outputId": "1849e801-8dc0-4e55-ef8f-c1627e7f097f"
      },
      "execution_count": 16,
      "outputs": [
        {
          "output_type": "stream",
          "name": "stdout",
          "text": [
            "enter a string: nithish\n",
            "n is not vowel\n",
            "i is vowel\n",
            "t is not vowel\n",
            "h is not vowel\n",
            "i is vowel\n",
            "s is not vowel\n",
            "h is not vowel\n"
          ]
        }
      ]
    },
    {
      "cell_type": "code",
      "source": [
        "user = input(\"enter a string: \")\n",
        "vowels = ['a','e','i','o','u','A','E','I','O','U']\n",
        "def find_vowels(user):\n",
        "  if user in vowels:\n",
        "    print(user,\"is vowel\")\n",
        "  else:\n",
        "    print(user,\"is not vowel\")\n",
        "find_vowels(user)"
      ],
      "metadata": {
        "colab": {
          "base_uri": "https://localhost:8080/"
        },
        "id": "8p6VxwvlcueZ",
        "outputId": "8a241f62-ac26-45d7-eb96-582fdef625bd"
      },
      "execution_count": 15,
      "outputs": [
        {
          "output_type": "stream",
          "name": "stdout",
          "text": [
            "enter a string: A\n",
            "A is vowel\n"
          ]
        }
      ]
    },
    {
      "cell_type": "markdown",
      "source": [
        "# return function:\n",
        "*  The return statement gives back a value from a function\n",
        "*  It stops the function and sends a result back to where it was called.\n",
        "*  Can return multiple values as a tuple.\n",
        "*   A function can have multiple return statements but executes only one."
      ],
      "metadata": {
        "id": "Y5bliygWffxC"
      }
    },
    {
      "cell_type": "code",
      "source": [
        "def mul(a,b):\n",
        "  mul=a*b\n",
        "  return mul\n",
        "mul(2,3)"
      ],
      "metadata": {
        "colab": {
          "base_uri": "https://localhost:8080/"
        },
        "id": "amDhJMFNeImo",
        "outputId": "39e9181c-aef1-4d48-8fd3-eaacff99fc30"
      },
      "execution_count": 18,
      "outputs": [
        {
          "output_type": "execute_result",
          "data": {
            "text/plain": [
              "6"
            ]
          },
          "metadata": {},
          "execution_count": 18
        }
      ]
    },
    {
      "cell_type": "markdown",
      "source": [
        "# Lambda Function:\n",
        "\n",
        "*   They can take multiple arguments but must have only one expression.\n",
        "*   They don’t require a def keyword or a function name."
      ],
      "metadata": {
        "id": "rAWgFYlee8UQ"
      }
    },
    {
      "cell_type": "code",
      "source": [
        "a = lambda x,y :x+y\n",
        "print(a(22,4))"
      ],
      "metadata": {
        "colab": {
          "base_uri": "https://localhost:8080/"
        },
        "id": "T2w8aSufezrK",
        "outputId": "f1f727b3-3d31-48ad-cc18-52e153486092"
      },
      "execution_count": 19,
      "outputs": [
        {
          "output_type": "stream",
          "name": "stdout",
          "text": [
            "26\n"
          ]
        }
      ]
    },
    {
      "cell_type": "code",
      "source": [
        "def find():\n",
        "  lam = lambda x,y:x*y\n",
        "  return lam\n",
        "\n",
        "h=find()\n",
        "print(h(22,4))"
      ],
      "metadata": {
        "colab": {
          "base_uri": "https://localhost:8080/"
        },
        "id": "b-Jvqw3PgUBU",
        "outputId": "42e40a87-2adc-4a6f-a4dd-68f3612afb1b"
      },
      "execution_count": 24,
      "outputs": [
        {
          "output_type": "stream",
          "name": "stdout",
          "text": [
            "88\n"
          ]
        }
      ]
    },
    {
      "cell_type": "markdown",
      "source": [
        "# Global Variable:\n",
        "*   Used to declare a variable as global inside a function.\n",
        "*   Allows modifying a global variable inside a function.\n",
        "*   Declared using the global keyword."
      ],
      "metadata": {
        "id": "opdGdDEyi4EE"
      }
    },
    {
      "cell_type": "markdown",
      "source": [
        "# Local Variable:\n",
        "*   Variables created inside a function are local to that function.\n",
        "*   They cannot be accessed outside the function.\n",
        "*   Automatically deleted after the function finishes execution."
      ],
      "metadata": {
        "id": "DXmyAbdhi5PG"
      }
    },
    {
      "cell_type": "code",
      "source": [
        "global_var = \"Hello_World\"    #global function\n",
        "\n",
        "def local():\n",
        "  local_var = \"this is local function\"\n",
        "  print(local_var)\n"
      ],
      "metadata": {
        "id": "sBIRIHf4gs_O"
      },
      "execution_count": 26,
      "outputs": []
    },
    {
      "cell_type": "code",
      "source": [
        "local()"
      ],
      "metadata": {
        "colab": {
          "base_uri": "https://localhost:8080/"
        },
        "id": "dH9HMG-RjuM7",
        "outputId": "378f1cb6-24a2-4452-9760-fca1054b9cfc"
      },
      "execution_count": 29,
      "outputs": [
        {
          "output_type": "stream",
          "name": "stdout",
          "text": [
            "this is local function\n"
          ]
        }
      ]
    },
    {
      "cell_type": "code",
      "source": [
        "print(global_var)"
      ],
      "metadata": {
        "colab": {
          "base_uri": "https://localhost:8080/"
        },
        "id": "uS-hH-Xyj7Fz",
        "outputId": "285cc098-1762-4000-942c-3f1566a06ef1"
      },
      "execution_count": 30,
      "outputs": [
        {
          "output_type": "stream",
          "name": "stdout",
          "text": [
            "Hello_World\n"
          ]
        }
      ]
    },
    {
      "cell_type": "code",
      "source": [],
      "metadata": {
        "id": "RCJomxTFkKlr"
      },
      "execution_count": null,
      "outputs": []
    }
  ]
}