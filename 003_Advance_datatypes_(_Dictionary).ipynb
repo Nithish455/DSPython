{
  "nbformat": 4,
  "nbformat_minor": 0,
  "metadata": {
    "colab": {
      "provenance": []
    },
    "kernelspec": {
      "name": "python3",
      "display_name": "Python 3"
    },
    "language_info": {
      "name": "python"
    }
  },
  "cells": [
    {
      "cell_type": "markdown",
      "source": [
        "# dictionary( ):\n",
        "\n",
        "*    A Python dictionary stores data in key-value pairs, where each key is unique, and it maps to a corresponding value.\n",
        "*   Dictionaries are mutable (we can add, update, or remove key-value pairs after creation).\n",
        "*    Dictionaries are defined using curly braces {} with keys and values separated by colons,\n",
        "*    A dictionary cannot have duplicate keys; if a duplicate key is assigned a new value, the old value gets overwritten.\n",
        "*   Dictionaries can contain other dictionaries, allowing the creation of complex data structures\n",
        "\n",
        "\n",
        "\n",
        "\n",
        "\n"
      ],
      "metadata": {
        "id": "FkE_n_xHodMm"
      }
    },
    {
      "cell_type": "code",
      "execution_count": 7,
      "metadata": {
        "colab": {
          "base_uri": "https://localhost:8080/"
        },
        "id": "jvoVPkhTfjxt",
        "outputId": "2fdb10bf-1d9c-4367-9512-e23ebe57458d"
      },
      "outputs": [
        {
          "output_type": "stream",
          "name": "stdout",
          "text": [
            "<class 'dict'>\n",
            "{'Name': 'Nithish', 'Age': 21, 'City': 'Hyderabad', 'DOB': 4}\n"
          ]
        }
      ],
      "source": [
        "person = {\"Name\":\"Nithish\",\"Age\":21,\"City\":\"Hyderabad\",\"DOB\":4}\n",
        "print(type(person))\n",
        "print(person)"
      ]
    },
    {
      "cell_type": "markdown",
      "source": [
        "# Dictionary Methods:\n",
        "1) pop( ):\n",
        "*   Removes the item with the specified key name\n",
        "\n",
        "\n"
      ],
      "metadata": {
        "id": "dNkuVFLAocZb"
      }
    },
    {
      "cell_type": "code",
      "source": [
        "person = {\"Name\":\"Nithish\",\"Age\":21,\"City\":\"Hyderabad\",\"DOB\":4}\n",
        "person.popitem()\n",
        "\n"
      ],
      "metadata": {
        "colab": {
          "base_uri": "https://localhost:8080/"
        },
        "id": "SCsHtgVBruOe",
        "outputId": "da37a9c3-60f1-4d17-a8a0-f72730ae0682"
      },
      "execution_count": 38,
      "outputs": [
        {
          "output_type": "execute_result",
          "data": {
            "text/plain": [
              "('DOB', 4)"
            ]
          },
          "metadata": {},
          "execution_count": 38
        }
      ]
    },
    {
      "cell_type": "code",
      "source": [
        "person = {\"Name\":\"Nithish\",\"Age\":21,\"City\":\"Hyderabad\",\"DOB\":4}\n",
        "person.pop(\"City\")\n"
      ],
      "metadata": {
        "colab": {
          "base_uri": "https://localhost:8080/",
          "height": 36
        },
        "id": "u9qUPmD1ryuH",
        "outputId": "73ac4bf9-4210-4190-f780-41fe5255b666"
      },
      "execution_count": 40,
      "outputs": [
        {
          "output_type": "execute_result",
          "data": {
            "text/plain": [
              "'Hyderabad'"
            ],
            "application/vnd.google.colaboratory.intrinsic+json": {
              "type": "string"
            }
          },
          "metadata": {},
          "execution_count": 40
        }
      ]
    },
    {
      "cell_type": "markdown",
      "source": [
        "2) update( ):\n",
        "*   Updates the dictionary with key-value pairs from another dictionary."
      ],
      "metadata": {
        "id": "sqZWUUSUtbxS"
      }
    },
    {
      "cell_type": "code",
      "source": [
        "person = {\"Name\":\"Nithish\",\"Age\":21,\"City\":\"Hyderabad\",\"DOB\":4}\n"
      ],
      "metadata": {
        "id": "nNDlqa54spoZ"
      },
      "execution_count": 17,
      "outputs": []
    },
    {
      "cell_type": "code",
      "source": [
        "person.update({\"Age\": 26})\n",
        "print(person)"
      ],
      "metadata": {
        "colab": {
          "base_uri": "https://localhost:8080/"
        },
        "id": "HVxOBSxtt3et",
        "outputId": "c2ac1d47-54fe-423b-d084-2703109e2536"
      },
      "execution_count": 18,
      "outputs": [
        {
          "output_type": "stream",
          "name": "stdout",
          "text": [
            "{'Name': 'Nithish', 'Age': 26, 'City': 'Hyderabad', 'DOB': 4}\n"
          ]
        }
      ]
    },
    {
      "cell_type": "code",
      "source": [
        "person.update({\"Email\":\"nithish@gmail.com\"})\n",
        "print(person)"
      ],
      "metadata": {
        "colab": {
          "base_uri": "https://localhost:8080/"
        },
        "id": "xzCOGzSPuD7J",
        "outputId": "c18e45f9-9bc3-452e-f5ef-5c601ed8c827"
      },
      "execution_count": 20,
      "outputs": [
        {
          "output_type": "stream",
          "name": "stdout",
          "text": [
            "{'Name': 'Nithish', 'Age': 26, 'City': 'Hyderabad', 'DOB': 4, 'Email': 'nithish@gmail.com'}\n"
          ]
        }
      ]
    },
    {
      "cell_type": "markdown",
      "source": [
        "3) dict.keys():\n",
        "\n",
        "\n",
        "*   Returns a view object of all the keys in the dictionary.\n",
        "\n",
        "\n"
      ],
      "metadata": {
        "id": "iFVfqIaTuYKS"
      }
    },
    {
      "cell_type": "code",
      "source": [
        "person = {\"Name\":\"Nithish\",\"Age\":21,\"City\":\"Hyderabad\",\"DOB\":4,\"Email\":\"nithish@gmail.com\"}\n",
        "person.keys()"
      ],
      "metadata": {
        "colab": {
          "base_uri": "https://localhost:8080/"
        },
        "id": "w-f_r4TAuQm0",
        "outputId": "1c213d8e-a77e-4d3b-dd68-adb0d9a494b7"
      },
      "execution_count": 22,
      "outputs": [
        {
          "output_type": "execute_result",
          "data": {
            "text/plain": [
              "dict_keys(['Name', 'Age', 'City', 'DOB', 'Email'])"
            ]
          },
          "metadata": {},
          "execution_count": 22
        }
      ]
    },
    {
      "cell_type": "code",
      "source": [
        "a = {1:\"a\",2:\"b\",3:\"c\"}\n",
        "a.keys()"
      ],
      "metadata": {
        "colab": {
          "base_uri": "https://localhost:8080/"
        },
        "id": "zYt6aDRfvQV-",
        "outputId": "18b6fc86-c476-45ec-8366-20547b6d4ac0"
      },
      "execution_count": 24,
      "outputs": [
        {
          "output_type": "execute_result",
          "data": {
            "text/plain": [
              "dict_keys([1, 2, 3])"
            ]
          },
          "metadata": {},
          "execution_count": 24
        }
      ]
    },
    {
      "cell_type": "markdown",
      "source": [
        "4) dict.values():\n",
        "*   Returns a view object of all the values in the dictionary."
      ],
      "metadata": {
        "id": "sZB2-hQ8u-gK"
      }
    },
    {
      "cell_type": "code",
      "source": [
        "person = {\"Name\":\"Nithish\",\"Age\":21,\"City\":\"Hyderabad\",\"DOB\":4,\"Email\":\"nithish@gmail.com\"}\n",
        "person.values()"
      ],
      "metadata": {
        "colab": {
          "base_uri": "https://localhost:8080/"
        },
        "id": "VOBE1TZHupjL",
        "outputId": "7a0167be-7187-4c35-ff7c-8d11557180bc"
      },
      "execution_count": 23,
      "outputs": [
        {
          "output_type": "execute_result",
          "data": {
            "text/plain": [
              "dict_values(['Nithish', 21, 'Hyderabad', 4, 'nithish@gmail.com'])"
            ]
          },
          "metadata": {},
          "execution_count": 23
        }
      ]
    },
    {
      "cell_type": "code",
      "source": [
        "a = {1:\"a\",2:\"b\",3:\"c\"}\n",
        "a.values()"
      ],
      "metadata": {
        "colab": {
          "base_uri": "https://localhost:8080/"
        },
        "id": "50Xv266svMAM",
        "outputId": "070b3fcd-37ba-4ff1-de5a-7e4010d7355d"
      },
      "execution_count": 25,
      "outputs": [
        {
          "output_type": "execute_result",
          "data": {
            "text/plain": [
              "dict_values(['a', 'b', 'c'])"
            ]
          },
          "metadata": {},
          "execution_count": 25
        }
      ]
    },
    {
      "cell_type": "markdown",
      "source": [
        "5) dict.items( ):\n",
        "\n",
        "*   Returns a view object containing key-value pairs as tuples."
      ],
      "metadata": {
        "id": "nTcKBrTovhXw"
      }
    },
    {
      "cell_type": "code",
      "source": [
        "person = {\"Name\":\"Nithish\",\"Age\":21,\"City\":\"Hyderabad\",\"DOB\":4,\"Email\":\"nithish@gmail.com\"}\n",
        "print(person.items())"
      ],
      "metadata": {
        "colab": {
          "base_uri": "https://localhost:8080/"
        },
        "id": "dsGTUllyvcUe",
        "outputId": "97e7869d-4912-45ad-b1dc-672aae4e91a9"
      },
      "execution_count": 26,
      "outputs": [
        {
          "output_type": "stream",
          "name": "stdout",
          "text": [
            "dict_items([('Name', 'Nithish'), ('Age', 21), ('City', 'Hyderabad'), ('DOB', 4), ('Email', 'nithish@gmail.com')])\n"
          ]
        }
      ]
    },
    {
      "cell_type": "code",
      "source": [
        "a = {1:\"a\",2:\"b\",3:\"c\"}\n",
        "print(a.items())"
      ],
      "metadata": {
        "colab": {
          "base_uri": "https://localhost:8080/"
        },
        "id": "nFvNzpWuv0YT",
        "outputId": "cbdca6e7-383d-4672-acb5-629c9bd94bfb"
      },
      "execution_count": 29,
      "outputs": [
        {
          "output_type": "stream",
          "name": "stdout",
          "text": [
            "dict_items([(1, 'a'), (2, 'b'), (3, 'c')])\n"
          ]
        }
      ]
    },
    {
      "cell_type": "markdown",
      "source": [
        "6) dict.copy( ):\n",
        "*   Returns a shallow copy of the dictionary."
      ],
      "metadata": {
        "id": "61UXADlWwOyI"
      }
    },
    {
      "cell_type": "code",
      "source": [
        "person2 = person.copy()\n",
        "print(person)\n",
        "print(person2)"
      ],
      "metadata": {
        "colab": {
          "base_uri": "https://localhost:8080/"
        },
        "id": "wrbpcB2-wbTt",
        "outputId": "83ff97af-85b1-437d-9f52-9206a11b06b2"
      },
      "execution_count": 31,
      "outputs": [
        {
          "output_type": "stream",
          "name": "stdout",
          "text": [
            "{'Name': 'Nithish', 'Age': 21, 'City': 'Hyderabad', 'DOB': 4, 'Email': 'nithish@gmail.com'}\n",
            "{'Name': 'Nithish', 'Age': 21, 'City': 'Hyderabad', 'DOB': 4, 'Email': 'nithish@gmail.com'}\n"
          ]
        }
      ]
    },
    {
      "cell_type": "code",
      "source": [
        "a = {1:\"a\",2:\"b\",3:\"c\"}\n",
        "b = a.copy()\n",
        "print(a)\n",
        "print(b)"
      ],
      "metadata": {
        "colab": {
          "base_uri": "https://localhost:8080/"
        },
        "id": "XjFeVaEnwnC5",
        "outputId": "30dc6ee9-d0c9-4fa8-ac7d-f90a2bda7fd0"
      },
      "execution_count": 42,
      "outputs": [
        {
          "output_type": "stream",
          "name": "stdout",
          "text": [
            "{1: 'a', 2: 'b', 3: 'c'}\n",
            "{1: 'a', 2: 'b', 3: 'c'}\n"
          ]
        }
      ]
    },
    {
      "cell_type": "markdown",
      "source": [
        "7) dict.clear( ):\n",
        "*   Removes all items from the dictiona"
      ],
      "metadata": {
        "id": "p9LFYJKGv_E5"
      }
    },
    {
      "cell_type": "code",
      "source": [
        "person.clear()\n",
        "print(person)\n",
        "print(person2)"
      ],
      "metadata": {
        "colab": {
          "base_uri": "https://localhost:8080/"
        },
        "id": "ZKpD6fPOv5kg",
        "outputId": "51ea1667-2864-4fba-a6b9-0c1b911498db"
      },
      "execution_count": 35,
      "outputs": [
        {
          "output_type": "stream",
          "name": "stdout",
          "text": [
            "{}\n",
            "{'Name': 'Nithish', 'Age': 21, 'City': 'Hyderabad', 'DOB': 4, 'Email': 'nithish@gmail.com'}\n"
          ]
        }
      ]
    },
    {
      "cell_type": "code",
      "source": [
        "a.clear()\n",
        "print(a)\n",
        "print(b)"
      ],
      "metadata": {
        "colab": {
          "base_uri": "https://localhost:8080/"
        },
        "id": "ccBH-0hywy8V",
        "outputId": "5f6a99ed-e5d9-4587-9614-12a6f0c48923"
      },
      "execution_count": 36,
      "outputs": [
        {
          "output_type": "stream",
          "name": "stdout",
          "text": [
            "{}\n",
            "{'Name': 'Nithish', 'Age': 21, 'City': 'Hyderabad', 'DOB': 4, 'Email': 'nithish@gmail.com'}\n"
          ]
        }
      ]
    }
  ]
}