{
  "nbformat": 4,
  "nbformat_minor": 0,
  "metadata": {
    "colab": {
      "provenance": []
    },
    "kernelspec": {
      "name": "python3",
      "display_name": "Python 3"
    },
    "language_info": {
      "name": "python"
    }
  },
  "cells": [
    {
      "cell_type": "markdown",
      "source": [
        "# Tuple( ):\n",
        "\n",
        "\n",
        "*   Tuple is simply a pair of values grouped together in a fixed order.\n",
        "*   It is immutable(we cannot modify,change,update the variable).\n",
        "\n"
      ],
      "metadata": {
        "id": "yhtasSE1kYdf"
      }
    },
    {
      "cell_type": "code",
      "source": [
        "a = (1,2.5,\"apple\")\n",
        "print(type(a))"
      ],
      "metadata": {
        "colab": {
          "base_uri": "https://localhost:8080/"
        },
        "id": "Nm-EaIZ7naxY",
        "outputId": "d558e895-2ab1-4041-aaa1-7f81bb516d70"
      },
      "execution_count": null,
      "outputs": [
        {
          "output_type": "stream",
          "name": "stdout",
          "text": [
            "<class 'tuple'>\n"
          ]
        }
      ]
    },
    {
      "cell_type": "markdown",
      "source": [
        "Indexing():\n",
        "\n",
        "\n",
        "*   Access using square brackets – Use tuple[index] to get an element.\n",
        "*   Positive Indexing – Access elements from the beginning using 0, 1, 2, ....\n",
        "*   Negative Indexing – Access elements from the end using -1, -2, -3, ....\n",
        "\n",
        "\n",
        "\n",
        "\n",
        "\n"
      ],
      "metadata": {
        "id": "la_huH1pMqca"
      }
    },
    {
      "cell_type": "code",
      "source": [
        "a = (\"tuple is immutable\")\n",
        "a[1]"
      ],
      "metadata": {
        "id": "-TrB2WIanmqh",
        "colab": {
          "base_uri": "https://localhost:8080/",
          "height": 36
        },
        "outputId": "a3d81360-6aec-451a-8cac-0f2a06695a1b"
      },
      "execution_count": 2,
      "outputs": [
        {
          "output_type": "execute_result",
          "data": {
            "text/plain": [
              "'u'"
            ],
            "application/vnd.google.colaboratory.intrinsic+json": {
              "type": "string"
            }
          },
          "metadata": {},
          "execution_count": 2
        }
      ]
    },
    {
      "cell_type": "code",
      "source": [
        "a = (\"tuple is immutable\")\n",
        "a = [-8]"
      ],
      "metadata": {
        "id": "RA9pbSPBrw_p"
      },
      "execution_count": 3,
      "outputs": []
    },
    {
      "cell_type": "markdown",
      "source": [
        "Slicing( ):\n",
        "\n",
        "\n",
        "*  Use [start:end] to extract a portion of a tuple.\n",
        "*  Slicing creates a new tuple without changing the original.\n",
        "\n"
      ],
      "metadata": {
        "id": "KzIAV9pBsEZD"
      }
    },
    {
      "cell_type": "code",
      "source": [
        "a = (\"tuple is immutable\")\n",
        "a[0:8]"
      ],
      "metadata": {
        "colab": {
          "base_uri": "https://localhost:8080/",
          "height": 36
        },
        "id": "X_lXjRtEsB8I",
        "outputId": "5b798d73-1ed6-4bd8-a2d0-ac6a8a6c638d"
      },
      "execution_count": 4,
      "outputs": [
        {
          "output_type": "execute_result",
          "data": {
            "text/plain": [
              "'tuple is'"
            ],
            "application/vnd.google.colaboratory.intrinsic+json": {
              "type": "string"
            }
          },
          "metadata": {},
          "execution_count": 4
        }
      ]
    },
    {
      "cell_type": "code",
      "source": [
        "a = (\"tuple is immutable\")\n",
        "a[-7:-1]"
      ],
      "metadata": {
        "colab": {
          "base_uri": "https://localhost:8080/",
          "height": 36
        },
        "id": "MBht9QB5sfW-",
        "outputId": "ad78afc3-9d35-4317-a9df-24209dfe81c4"
      },
      "execution_count": 6,
      "outputs": [
        {
          "output_type": "execute_result",
          "data": {
            "text/plain": [
              "'mutabl'"
            ],
            "application/vnd.google.colaboratory.intrinsic+json": {
              "type": "string"
            }
          },
          "metadata": {},
          "execution_count": 6
        }
      ]
    },
    {
      "cell_type": "markdown",
      "source": [
        "type( ) function :\n",
        "*   The type() function returns the data type of a given object.\n"
      ],
      "metadata": {
        "id": "g-Ez0QiAsmq0"
      }
    },
    {
      "cell_type": "code",
      "source": [
        "a = (\"tuple is immutable\")\n",
        "print(type(a))"
      ],
      "metadata": {
        "colab": {
          "base_uri": "https://localhost:8080/"
        },
        "id": "OWm4GumWsiSN",
        "outputId": "f743bdcd-126e-4614-d3ca-5a9ff5936c81"
      },
      "execution_count": 8,
      "outputs": [
        {
          "output_type": "stream",
          "name": "stdout",
          "text": [
            "<class 'str'>\n"
          ]
        }
      ]
    },
    {
      "cell_type": "code",
      "source": [
        "a = (1,2.3,\"name\",True)\n",
        "print(type(a))"
      ],
      "metadata": {
        "colab": {
          "base_uri": "https://localhost:8080/"
        },
        "id": "QdRAQFXas-DC",
        "outputId": "52dead5c-13bd-47ee-87bb-dc09480496e4"
      },
      "execution_count": 10,
      "outputs": [
        {
          "output_type": "stream",
          "name": "stdout",
          "text": [
            "<class 'tuple'>\n"
          ]
        }
      ]
    },
    {
      "cell_type": "code",
      "source": [
        "a= (1,2,3,4)\n",
        "print(type(a))"
      ],
      "metadata": {
        "colab": {
          "base_uri": "https://localhost:8080/"
        },
        "id": "e0ooQVsDvCH5",
        "outputId": "7e92e88b-b271-4776-e16f-9950c6052749"
      },
      "execution_count": 16,
      "outputs": [
        {
          "output_type": "stream",
          "name": "stdout",
          "text": [
            "<class 'tuple'>\n"
          ]
        }
      ]
    },
    {
      "cell_type": "markdown",
      "source": [
        "# Tuple methods:\n",
        "1) len( ):\n",
        "\n",
        "\n",
        "*   The len() function returns the number of elements in a tuple.\n",
        "*   It helps in finding the size of a tuple quickly.\n",
        "\n"
      ],
      "metadata": {
        "id": "JVusVV3atUaM"
      }
    },
    {
      "cell_type": "code",
      "source": [
        "a = (\"tuple is immutable\")\n",
        "len(a)"
      ],
      "metadata": {
        "colab": {
          "base_uri": "https://localhost:8080/"
        },
        "id": "EyBsrhogtRp3",
        "outputId": "21d7f931-dd0b-4daa-b899-e5db26ce2684"
      },
      "execution_count": 11,
      "outputs": [
        {
          "output_type": "execute_result",
          "data": {
            "text/plain": [
              "18"
            ]
          },
          "metadata": {},
          "execution_count": 11
        }
      ]
    },
    {
      "cell_type": "code",
      "source": [
        "a= (\"a\",\"b\",1,2,\"c\")\n",
        "len(a)"
      ],
      "metadata": {
        "colab": {
          "base_uri": "https://localhost:8080/"
        },
        "id": "7C9Wlu9htyDI",
        "outputId": "2009c673-a8d8-462d-99d3-e295fa2dcb0e"
      },
      "execution_count": 12,
      "outputs": [
        {
          "output_type": "execute_result",
          "data": {
            "text/plain": [
              "5"
            ]
          },
          "metadata": {},
          "execution_count": 12
        }
      ]
    },
    {
      "cell_type": "markdown",
      "source": [
        "2) count( ):\n",
        "\n",
        "\n",
        "*   The count() function returns the number of times a specific element appears in a tuple.\n",
        "\n",
        "\n"
      ],
      "metadata": {
        "id": "qcHb2kmnt9iv"
      }
    },
    {
      "cell_type": "code",
      "source": [
        "a = (\"tuple is immutable\")\n",
        "a.count(\"i\")"
      ],
      "metadata": {
        "colab": {
          "base_uri": "https://localhost:8080/"
        },
        "id": "LuY9Dv7Yt8Dk",
        "outputId": "6e69ba16-3810-4dd1-a0b8-7ec7bcca115f"
      },
      "execution_count": 14,
      "outputs": [
        {
          "output_type": "execute_result",
          "data": {
            "text/plain": [
              "2"
            ]
          },
          "metadata": {},
          "execution_count": 14
        }
      ]
    },
    {
      "cell_type": "code",
      "source": [
        "a = (\"tuple is immutable\")\n",
        "print(a.count(\"m\"))"
      ],
      "metadata": {
        "colab": {
          "base_uri": "https://localhost:8080/"
        },
        "id": "6vxPSL8juUVF",
        "outputId": "b13ca8f8-648c-4485-c2b1-1576994821c2"
      },
      "execution_count": 15,
      "outputs": [
        {
          "output_type": "stream",
          "name": "stdout",
          "text": [
            "2\n"
          ]
        }
      ]
    },
    {
      "cell_type": "markdown",
      "source": [
        "index( ):\n",
        "\n",
        "\n",
        "*   Searches the tuple for a specified value and returns the position of where it was found\n",
        "\n",
        "\n"
      ],
      "metadata": {
        "id": "YZ9ibXNBvI0F"
      }
    },
    {
      "cell_type": "code",
      "source": [
        "a = (\"tuple is immutable\")\n",
        "print(a.index(\"m\"))"
      ],
      "metadata": {
        "colab": {
          "base_uri": "https://localhost:8080/"
        },
        "id": "ynNA3NcAvZgA",
        "outputId": "ac3d6e21-c1f9-4167-fbc9-3dadc9d8a143"
      },
      "execution_count": 17,
      "outputs": [
        {
          "output_type": "stream",
          "name": "stdout",
          "text": [
            "10\n"
          ]
        }
      ]
    }
  ]
}