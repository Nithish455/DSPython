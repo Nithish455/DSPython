{
  "nbformat": 4,
  "nbformat_minor": 0,
  "metadata": {
    "colab": {
      "provenance": [],
      "collapsed_sections": [
        "en--WKD1XLBa",
        "MAQ5yf0vgqlb",
        "JFHVqipGnJp_",
        "GCIyenu0qvvW"
      ]
    },
    "kernelspec": {
      "name": "python3",
      "display_name": "Python 3"
    },
    "language_info": {
      "name": "python"
    }
  },
  "cells": [
    {
      "cell_type": "code",
      "source": [
        "#10-02-2024\n",
        "# string\n",
        "#what is string\n",
        "#indexing and slicing in string\n",
        "#string methods"
      ],
      "metadata": {
        "id": "KLAZZUATwpeI"
      },
      "execution_count": 1,
      "outputs": []
    },
    {
      "cell_type": "markdown",
      "source": [
        "# String( ) :\n",
        "*   A string is a sequence of characters.\n",
        "*   Enclosed in single quotes ('), double quotes (\"), or triple quotes ('''  ''') for multi-line text."
      ],
      "metadata": {
        "id": "en--WKD1XLBa"
      }
    },
    {
      "cell_type": "code",
      "source": [
        "a ='i am learning datascience '\n",
        "print(a)\n",
        "\n",
        "b = \"i am learning datascience\"\n",
        "print(b)\n",
        "\n",
        "c = '''i am learning datascience'''\n",
        "print(c)"
      ],
      "metadata": {
        "id": "aSD7f0yWbSvS",
        "colab": {
          "base_uri": "https://localhost:8080/"
        },
        "outputId": "cef6506c-3527-465b-ce6e-f3fdb8c9d455"
      },
      "execution_count": null,
      "outputs": [
        {
          "output_type": "stream",
          "name": "stdout",
          "text": [
            "i am learning datascience \n",
            "i am learning datascience\n",
            "i am learning datascience\n"
          ]
        }
      ]
    },
    {
      "cell_type": "markdown",
      "source": [
        "# Indexing( )\n",
        "*   Indexing in Python strings allows you to access individual characters using their position.\n",
        "*   There are two types of indexing : positive and negative indexing.\n"
      ],
      "metadata": {
        "id": "MAQ5yf0vgqlb"
      }
    },
    {
      "cell_type": "code",
      "source": [
        "a = 'NITHISH'\n",
        "a[0]"
      ],
      "metadata": {
        "colab": {
          "base_uri": "https://localhost:8080/",
          "height": 36
        },
        "id": "GFXIn4FYgf1P",
        "outputId": "93126318-24be-4e83-a085-752276f11270"
      },
      "execution_count": null,
      "outputs": [
        {
          "output_type": "execute_result",
          "data": {
            "text/plain": [
              "'N'"
            ],
            "application/vnd.google.colaboratory.intrinsic+json": {
              "type": "string"
            }
          },
          "metadata": {},
          "execution_count": 8
        }
      ]
    },
    {
      "cell_type": "code",
      "source": [
        "a = 'NITHISH'\n",
        "a[2]"
      ],
      "metadata": {
        "colab": {
          "base_uri": "https://localhost:8080/",
          "height": 36
        },
        "id": "rk5YNvGejpLG",
        "outputId": "1b4d7aee-34cd-4317-e056-20ef9e6babc5"
      },
      "execution_count": null,
      "outputs": [
        {
          "output_type": "execute_result",
          "data": {
            "text/plain": [
              "'T'"
            ],
            "application/vnd.google.colaboratory.intrinsic+json": {
              "type": "string"
            }
          },
          "metadata": {},
          "execution_count": 19
        }
      ]
    },
    {
      "cell_type": "code",
      "source": [
        "a = 'NITHISH'\n",
        "a[3]"
      ],
      "metadata": {
        "colab": {
          "base_uri": "https://localhost:8080/",
          "height": 36
        },
        "id": "gp6_IopwkfgY",
        "outputId": "3fbb1ba5-0585-4662-92c2-d91348121bd3"
      },
      "execution_count": null,
      "outputs": [
        {
          "output_type": "execute_result",
          "data": {
            "text/plain": [
              "'H'"
            ],
            "application/vnd.google.colaboratory.intrinsic+json": {
              "type": "string"
            }
          },
          "metadata": {},
          "execution_count": 20
        }
      ]
    },
    {
      "cell_type": "code",
      "source": [
        "a = 'NITHISH'\n",
        "a[5]"
      ],
      "metadata": {
        "colab": {
          "base_uri": "https://localhost:8080/",
          "height": 36
        },
        "id": "azoFfywAkicg",
        "outputId": "7a47bfec-982d-4813-b132-587ffbc500ca"
      },
      "execution_count": null,
      "outputs": [
        {
          "output_type": "execute_result",
          "data": {
            "text/plain": [
              "'S'"
            ],
            "application/vnd.google.colaboratory.intrinsic+json": {
              "type": "string"
            }
          },
          "metadata": {},
          "execution_count": 21
        }
      ]
    },
    {
      "cell_type": "code",
      "source": [
        "a = 'NITHISH'\n",
        "a[6]"
      ],
      "metadata": {
        "colab": {
          "base_uri": "https://localhost:8080/",
          "height": 36
        },
        "id": "MVUhbcF2ksUK",
        "outputId": "5e4f5f9e-300c-40ee-ae67-8c8079d7ce02"
      },
      "execution_count": null,
      "outputs": [
        {
          "output_type": "execute_result",
          "data": {
            "text/plain": [
              "'H'"
            ],
            "application/vnd.google.colaboratory.intrinsic+json": {
              "type": "string"
            }
          },
          "metadata": {},
          "execution_count": 22
        }
      ]
    },
    {
      "cell_type": "code",
      "source": [
        "a = 'NITHISH'\n",
        "a[-1]"
      ],
      "metadata": {
        "colab": {
          "base_uri": "https://localhost:8080/",
          "height": 36
        },
        "id": "SWg3LCu2kzj9",
        "outputId": "94b166b5-80b5-44ed-d37b-3472fdf7eaa7"
      },
      "execution_count": null,
      "outputs": [
        {
          "output_type": "execute_result",
          "data": {
            "text/plain": [
              "'H'"
            ],
            "application/vnd.google.colaboratory.intrinsic+json": {
              "type": "string"
            }
          },
          "metadata": {},
          "execution_count": 14
        }
      ]
    },
    {
      "cell_type": "code",
      "source": [
        "a = 'NITHISH'\n",
        "a[-7]"
      ],
      "metadata": {
        "colab": {
          "base_uri": "https://localhost:8080/",
          "height": 36
        },
        "id": "yobzwQbAmH7u",
        "outputId": "339adcdd-182d-4697-df7d-6f87e48b440e"
      },
      "execution_count": null,
      "outputs": [
        {
          "output_type": "execute_result",
          "data": {
            "text/plain": [
              "'N'"
            ],
            "application/vnd.google.colaboratory.intrinsic+json": {
              "type": "string"
            }
          },
          "metadata": {},
          "execution_count": 23
        }
      ]
    },
    {
      "cell_type": "code",
      "source": [
        "a = 'NITHISH'\n",
        "a[-3]"
      ],
      "metadata": {
        "colab": {
          "base_uri": "https://localhost:8080/",
          "height": 36
        },
        "id": "RpvmhhtdmTMH",
        "outputId": "af722eed-b849-4d5a-c59c-8d60c310d5e4"
      },
      "execution_count": null,
      "outputs": [
        {
          "output_type": "execute_result",
          "data": {
            "text/plain": [
              "'I'"
            ],
            "application/vnd.google.colaboratory.intrinsic+json": {
              "type": "string"
            }
          },
          "metadata": {},
          "execution_count": 24
        }
      ]
    },
    {
      "cell_type": "code",
      "source": [
        "a = 'NITHISH'\n",
        "a[-5]"
      ],
      "metadata": {
        "colab": {
          "base_uri": "https://localhost:8080/",
          "height": 36
        },
        "id": "wfZKWgoFmWc5",
        "outputId": "fdfd0e0a-84b3-45ef-fd4a-215b865348b2"
      },
      "execution_count": null,
      "outputs": [
        {
          "output_type": "execute_result",
          "data": {
            "text/plain": [
              "'T'"
            ],
            "application/vnd.google.colaboratory.intrinsic+json": {
              "type": "string"
            }
          },
          "metadata": {},
          "execution_count": 25
        }
      ]
    },
    {
      "cell_type": "code",
      "source": [
        "a = 'NITHISH'\n",
        "a[-2]"
      ],
      "metadata": {
        "colab": {
          "base_uri": "https://localhost:8080/",
          "height": 36
        },
        "id": "t3rFm9gcmdi3",
        "outputId": "1491e397-8cf6-41e5-ecee-362aaf8f4dd4"
      },
      "execution_count": null,
      "outputs": [
        {
          "output_type": "execute_result",
          "data": {
            "text/plain": [
              "'S'"
            ],
            "application/vnd.google.colaboratory.intrinsic+json": {
              "type": "string"
            }
          },
          "metadata": {},
          "execution_count": 26
        }
      ]
    },
    {
      "cell_type": "markdown",
      "source": [
        "# Slicing( )\n",
        "Slicing is used to extract a portion (substring) of a string."
      ],
      "metadata": {
        "id": "JFHVqipGnJp_"
      }
    },
    {
      "cell_type": "markdown",
      "source": [
        "Positive slicing"
      ],
      "metadata": {
        "id": "98XE-2RLpftX"
      }
    },
    {
      "cell_type": "code",
      "source": [
        "a = 'NITHISH'\n",
        "a[0:]"
      ],
      "metadata": {
        "colab": {
          "base_uri": "https://localhost:8080/",
          "height": 36
        },
        "id": "0HHHYecinEAW",
        "outputId": "dff8bbdc-669e-4cfb-e658-ccb56046914c"
      },
      "execution_count": null,
      "outputs": [
        {
          "output_type": "execute_result",
          "data": {
            "text/plain": [
              "'NITHISH'"
            ],
            "application/vnd.google.colaboratory.intrinsic+json": {
              "type": "string"
            }
          },
          "metadata": {},
          "execution_count": 27
        }
      ]
    },
    {
      "cell_type": "code",
      "source": [
        "a = 'NITHISH'\n",
        "a[:7]"
      ],
      "metadata": {
        "colab": {
          "base_uri": "https://localhost:8080/",
          "height": 36
        },
        "id": "JM-O__Oupkts",
        "outputId": "8a1d6a64-d386-4763-eb2b-884d4002f9df"
      },
      "execution_count": null,
      "outputs": [
        {
          "output_type": "execute_result",
          "data": {
            "text/plain": [
              "'NITHISH'"
            ],
            "application/vnd.google.colaboratory.intrinsic+json": {
              "type": "string"
            }
          },
          "metadata": {},
          "execution_count": 28
        }
      ]
    },
    {
      "cell_type": "code",
      "source": [
        "a = 'NITHISH'\n",
        "a[0:9]"
      ],
      "metadata": {
        "colab": {
          "base_uri": "https://localhost:8080/",
          "height": 36
        },
        "id": "YX1V6L3ippc3",
        "outputId": "76894770-aa4a-4162-f28f-26e4460f61e9"
      },
      "execution_count": null,
      "outputs": [
        {
          "output_type": "execute_result",
          "data": {
            "text/plain": [
              "'NITHISH'"
            ],
            "application/vnd.google.colaboratory.intrinsic+json": {
              "type": "string"
            }
          },
          "metadata": {},
          "execution_count": 29
        }
      ]
    },
    {
      "cell_type": "code",
      "source": [
        "a = 'NITHISH'\n",
        "a[2:5]"
      ],
      "metadata": {
        "colab": {
          "base_uri": "https://localhost:8080/",
          "height": 36
        },
        "id": "NO1U6P6FpxiF",
        "outputId": "e110141c-c7e7-4689-b1eb-83465a397ff8"
      },
      "execution_count": null,
      "outputs": [
        {
          "output_type": "execute_result",
          "data": {
            "text/plain": [
              "'THI'"
            ],
            "application/vnd.google.colaboratory.intrinsic+json": {
              "type": "string"
            }
          },
          "metadata": {},
          "execution_count": 30
        }
      ]
    },
    {
      "cell_type": "code",
      "source": [
        "#[Start:End:Stepsize]\n",
        "#Skip the values based on the stepsize\n",
        "a = 'NITHISH'\n",
        "a[0:7:2]"
      ],
      "metadata": {
        "colab": {
          "base_uri": "https://localhost:8080/",
          "height": 36
        },
        "id": "sxMUXu0ap0Tp",
        "outputId": "6b66d315-87b4-4c29-863a-9987f521d45d"
      },
      "execution_count": null,
      "outputs": [
        {
          "output_type": "execute_result",
          "data": {
            "text/plain": [
              "'NTIH'"
            ],
            "application/vnd.google.colaboratory.intrinsic+json": {
              "type": "string"
            }
          },
          "metadata": {},
          "execution_count": 31
        }
      ]
    },
    {
      "cell_type": "code",
      "source": [
        "a = 'NITHISH'\n",
        "a[-7:]"
      ],
      "metadata": {
        "colab": {
          "base_uri": "https://localhost:8080/",
          "height": 36
        },
        "id": "DieFQDOjqJdU",
        "outputId": "f05ab10b-2a2d-46df-ed8a-db7416e04b98"
      },
      "execution_count": null,
      "outputs": [
        {
          "output_type": "execute_result",
          "data": {
            "text/plain": [
              "'NITHISH'"
            ],
            "application/vnd.google.colaboratory.intrinsic+json": {
              "type": "string"
            }
          },
          "metadata": {},
          "execution_count": 32
        }
      ]
    },
    {
      "cell_type": "code",
      "source": [
        "a = 'NITHISH'\n",
        "a[:-1]"
      ],
      "metadata": {
        "colab": {
          "base_uri": "https://localhost:8080/",
          "height": 36
        },
        "id": "Jg0LfbjFqd4t",
        "outputId": "3ff8a2c0-c80e-4e15-cb53-3d35016b45c6"
      },
      "execution_count": null,
      "outputs": [
        {
          "output_type": "execute_result",
          "data": {
            "text/plain": [
              "'NITHIS'"
            ],
            "application/vnd.google.colaboratory.intrinsic+json": {
              "type": "string"
            }
          },
          "metadata": {},
          "execution_count": 33
        }
      ]
    },
    {
      "cell_type": "code",
      "source": [
        "a = 'NITHISH'\n",
        "a[-6:-1]"
      ],
      "metadata": {
        "colab": {
          "base_uri": "https://localhost:8080/",
          "height": 36
        },
        "id": "Rt-wDwBAqfxU",
        "outputId": "019e0cf4-0306-4a4b-ccf7-552bd848c695"
      },
      "execution_count": null,
      "outputs": [
        {
          "output_type": "execute_result",
          "data": {
            "text/plain": [
              "'ITHIS'"
            ],
            "application/vnd.google.colaboratory.intrinsic+json": {
              "type": "string"
            }
          },
          "metadata": {},
          "execution_count": 34
        }
      ]
    },
    {
      "cell_type": "code",
      "source": [
        "a = 'NITHISH'\n",
        "a[-9:-1]"
      ],
      "metadata": {
        "colab": {
          "base_uri": "https://localhost:8080/",
          "height": 36
        },
        "id": "YCukUgvwqiET",
        "outputId": "6abdc532-4115-44db-dc2e-bb5a202d4b02"
      },
      "execution_count": null,
      "outputs": [
        {
          "output_type": "execute_result",
          "data": {
            "text/plain": [
              "'NITHIS'"
            ],
            "application/vnd.google.colaboratory.intrinsic+json": {
              "type": "string"
            }
          },
          "metadata": {},
          "execution_count": 35
        }
      ]
    },
    {
      "cell_type": "code",
      "source": [
        "#[Start:End:Stepsize]\n",
        "#Skip the values based on the stepsize\n",
        "a = 'NITHISH'\n",
        "a[-7:-1:2]"
      ],
      "metadata": {
        "colab": {
          "base_uri": "https://localhost:8080/",
          "height": 36
        },
        "id": "R8FZiKbKqmY_",
        "outputId": "47a79156-f58c-423d-e96d-c690ae130fbc"
      },
      "execution_count": null,
      "outputs": [
        {
          "output_type": "execute_result",
          "data": {
            "text/plain": [
              "'NTI'"
            ],
            "application/vnd.google.colaboratory.intrinsic+json": {
              "type": "string"
            }
          },
          "metadata": {},
          "execution_count": 37
        }
      ]
    },
    {
      "cell_type": "markdown",
      "source": [
        "# String Format:\n",
        "1) format( ) method:\n",
        "*   The format() method allows inserting variables into a string using {} placeholders, supporting both positional and named arguments.\n",
        "*   It provides advanced formatting options like alignment, padding, and number formatting (e.g., {:.2f} for two decimal places)."
      ],
      "metadata": {
        "id": "GCIyenu0qvvW"
      }
    },
    {
      "cell_type": "code",
      "source": [
        "name = 'NITHISH'\n",
        "age = '21'\n",
        "print('My name is {} and My age is {} year old'.format(name,age))"
      ],
      "metadata": {
        "colab": {
          "base_uri": "https://localhost:8080/"
        },
        "id": "M55fMt7escxO",
        "outputId": "1f8a1b4f-6590-4d9e-a287-eaa9e5cc239c"
      },
      "execution_count": null,
      "outputs": [
        {
          "output_type": "stream",
          "name": "stdout",
          "text": [
            "My name is NITHISH and My age is 21 year old\n"
          ]
        }
      ]
    },
    {
      "cell_type": "code",
      "source": [
        "name = 'VMEG'\n",
        "place = 'SHAMSHABAD'\n",
        "print('{} college is in {}'.format(name,place))"
      ],
      "metadata": {
        "colab": {
          "base_uri": "https://localhost:8080/"
        },
        "id": "MNK93ssj0CXg",
        "outputId": "024d2385-3a91-4d0b-a93c-a43a7c79f997"
      },
      "execution_count": null,
      "outputs": [
        {
          "output_type": "stream",
          "name": "stdout",
          "text": [
            "VMEG college is in SHAMSHABAD\n"
          ]
        }
      ]
    },
    {
      "cell_type": "markdown",
      "source": [
        "2) f.string method\n",
        "*   f-strings let you insert variables directly into a string using {}.\n",
        "*   They are faster than .format() formatting because they are evaluated at runtime directly."
      ],
      "metadata": {
        "id": "Qt7LW2OisXiK"
      }
    },
    {
      "cell_type": "code",
      "source": [
        "name = 'NITHISH'\n",
        "age = '21'\n",
        "print(f'My name is {name} and My age is {age} year old')"
      ],
      "metadata": {
        "colab": {
          "base_uri": "https://localhost:8080/"
        },
        "id": "clgHE60ntjJN",
        "outputId": "5ebacd55-ddaa-42d0-acad-8b683d6f1612"
      },
      "execution_count": null,
      "outputs": [
        {
          "output_type": "stream",
          "name": "stdout",
          "text": [
            "My name is NITHISH and My age is 21 year old\n"
          ]
        }
      ]
    },
    {
      "cell_type": "code",
      "source": [
        "name = 'VMEG'\n",
        "place = 'SHAMSHABAD'\n",
        "print(f'{name} college is in {place}')"
      ],
      "metadata": {
        "colab": {
          "base_uri": "https://localhost:8080/"
        },
        "id": "EaykI0w00iOm",
        "outputId": "60b08f1e-fd16-471b-ddbd-90c054ef9ca9"
      },
      "execution_count": null,
      "outputs": [
        {
          "output_type": "stream",
          "name": "stdout",
          "text": [
            "VMEG college is in SHAMSHABAD\n"
          ]
        }
      ]
    },
    {
      "cell_type": "markdown",
      "source": [
        "3) concatination:\n",
        "\n",
        "*   Joining two or more strings using the + operator.\n",
        "*   Using += allows adding strings to an existing string.\n",
        "\n"
      ],
      "metadata": {
        "id": "dSZE0en2tur-"
      }
    },
    {
      "cell_type": "code",
      "source": [
        "a = 'hello'\n",
        "b = 'world'\n",
        "print(a+\" \"+b)"
      ],
      "metadata": {
        "colab": {
          "base_uri": "https://localhost:8080/"
        },
        "id": "G2q1ue0vttZA",
        "outputId": "018c1044-3ba6-4c15-bb62-4a7cc3295ff4"
      },
      "execution_count": null,
      "outputs": [
        {
          "output_type": "stream",
          "name": "stdout",
          "text": [
            "hello world\n"
          ]
        }
      ]
    },
    {
      "cell_type": "code",
      "source": [
        "a = 'hello'\n",
        "a += 'world'\n",
        "print(a)"
      ],
      "metadata": {
        "colab": {
          "base_uri": "https://localhost:8080/"
        },
        "id": "zA0X3JQTyBBR",
        "outputId": "a920d816-1e69-4341-8c24-0bf352df9044"
      },
      "execution_count": null,
      "outputs": [
        {
          "output_type": "stream",
          "name": "stdout",
          "text": [
            "helloworld\n"
          ]
        }
      ]
    },
    {
      "cell_type": "code",
      "source": [
        "a = 'hello'\n",
        "b = 'world'\n",
        "print(a+b)"
      ],
      "metadata": {
        "colab": {
          "base_uri": "https://localhost:8080/"
        },
        "id": "sEIGbMtvz3z6",
        "outputId": "f32e296c-8e50-4e08-fc90-78a2989bfe66"
      },
      "execution_count": null,
      "outputs": [
        {
          "output_type": "stream",
          "name": "stdout",
          "text": [
            "helloworld\n"
          ]
        }
      ]
    },
    {
      "cell_type": "markdown",
      "source": [
        "4) Repetition( ):\n",
        "*   Repeating a string multiple times using the * operator.\n",
        "*   It is useful for creating patterns or repeating characters easily."
      ],
      "metadata": {
        "id": "TQSs5-aRyMie"
      }
    },
    {
      "cell_type": "code",
      "source": [
        "a = \"Booking start at 10PM\"\n",
        "a * 5"
      ],
      "metadata": {
        "colab": {
          "base_uri": "https://localhost:8080/",
          "height": 36
        },
        "id": "rhpUB5gyyKl1",
        "outputId": "aafe0dbb-728f-40db-a43f-e8e527789596"
      },
      "execution_count": null,
      "outputs": [
        {
          "output_type": "execute_result",
          "data": {
            "text/plain": [
              "'Booking start at 10PMBooking start at 10PMBooking start at 10PMBooking start at 10PMBooking start at 10PM'"
            ],
            "application/vnd.google.colaboratory.intrinsic+json": {
              "type": "string"
            }
          },
          "metadata": {},
          "execution_count": 48
        }
      ]
    },
    {
      "cell_type": "code",
      "source": [
        "print(\"hello\" * 3)"
      ],
      "metadata": {
        "colab": {
          "base_uri": "https://localhost:8080/"
        },
        "id": "vzrZeFDYy6J-",
        "outputId": "1076d6f9-70d9-4729-a0d3-072315520251"
      },
      "execution_count": null,
      "outputs": [
        {
          "output_type": "stream",
          "name": "stdout",
          "text": [
            "hellohellohello\n"
          ]
        }
      ]
    },
    {
      "cell_type": "markdown",
      "source": [
        "# String Methods:\n",
        "1) len( ):\n",
        "*   Returns the number of characters in a string, including spaces.\n",
        "*   It helps in finding the length of a string for loops, validations, and processing."
      ],
      "metadata": {
        "id": "s09xGnfnzHz2"
      }
    },
    {
      "cell_type": "code",
      "source": [
        "a = \"Booking start at 10PM\"\n",
        "len(a)"
      ],
      "metadata": {
        "colab": {
          "base_uri": "https://localhost:8080/"
        },
        "id": "juOhm-GozEMj",
        "outputId": "e658b6e7-da6c-4c15-c7cf-90a53fd7552e"
      },
      "execution_count": null,
      "outputs": [
        {
          "output_type": "execute_result",
          "data": {
            "text/plain": [
              "21"
            ]
          },
          "metadata": {},
          "execution_count": 57
        }
      ]
    },
    {
      "cell_type": "code",
      "source": [
        "b = \"hello\"\n",
        "len(b)"
      ],
      "metadata": {
        "colab": {
          "base_uri": "https://localhost:8080/"
        },
        "id": "y9-c9KnZznEw",
        "outputId": "e42aafdf-4dbf-4e42-8c2d-17b7220ddf75"
      },
      "execution_count": null,
      "outputs": [
        {
          "output_type": "execute_result",
          "data": {
            "text/plain": [
              "5"
            ]
          },
          "metadata": {},
          "execution_count": 52
        }
      ]
    },
    {
      "cell_type": "markdown",
      "source": [
        "2) upper( ):\n",
        "*   Converts all letters in a string to uppercase.\n",
        "*   It does not change the original string; it returns a new uppercase version."
      ],
      "metadata": {
        "id": "_xzQ2U2i1AC-"
      }
    },
    {
      "cell_type": "code",
      "source": [
        "a = \"booking start at 10pm\"\n",
        "a.upper()"
      ],
      "metadata": {
        "colab": {
          "base_uri": "https://localhost:8080/",
          "height": 36
        },
        "id": "JUUHQTIrzzFz",
        "outputId": "4118f9c9-fa22-45b1-ed1c-18e13cdbf6d9"
      },
      "execution_count": null,
      "outputs": [
        {
          "output_type": "execute_result",
          "data": {
            "text/plain": [
              "'BOOKING START AT 10PM'"
            ],
            "application/vnd.google.colaboratory.intrinsic+json": {
              "type": "string"
            }
          },
          "metadata": {},
          "execution_count": 58
        }
      ]
    },
    {
      "cell_type": "code",
      "source": [
        "print(\"hello_world\".upper())"
      ],
      "metadata": {
        "colab": {
          "base_uri": "https://localhost:8080/"
        },
        "id": "eev8f1el1itQ",
        "outputId": "5ed99ed7-8c8d-4a06-b3b9-25e00fc41818"
      },
      "execution_count": null,
      "outputs": [
        {
          "output_type": "stream",
          "name": "stdout",
          "text": [
            "HELLO_WORLD\n"
          ]
        }
      ]
    },
    {
      "cell_type": "markdown",
      "source": [
        "3) lower( )\n",
        "\n",
        "\n",
        "*   Converts all letters in a string to lowercase.\n",
        "*   It does not modify the original string but returns a new lowercase version.\n",
        "\n"
      ],
      "metadata": {
        "id": "D5btgV1B1teS"
      }
    },
    {
      "cell_type": "code",
      "source": [
        "a = \"BOOKING START AT 10PM\"\n",
        "a.lower()"
      ],
      "metadata": {
        "colab": {
          "base_uri": "https://localhost:8080/",
          "height": 36
        },
        "id": "Ix0hfrkh1pPm",
        "outputId": "ca3910ca-8e24-418d-a7a8-fe48ea76a087"
      },
      "execution_count": null,
      "outputs": [
        {
          "output_type": "execute_result",
          "data": {
            "text/plain": [
              "'booking start at 10pm'"
            ],
            "application/vnd.google.colaboratory.intrinsic+json": {
              "type": "string"
            }
          },
          "metadata": {},
          "execution_count": 62
        }
      ]
    },
    {
      "cell_type": "code",
      "source": [
        "print(\"HELLOWORLD\".lower())"
      ],
      "metadata": {
        "colab": {
          "base_uri": "https://localhost:8080/"
        },
        "id": "zP4soOZq2G19",
        "outputId": "d695c39f-0c4a-4e6c-db27-4c1ff0f70fa1"
      },
      "execution_count": null,
      "outputs": [
        {
          "output_type": "stream",
          "name": "stdout",
          "text": [
            "helloworld\n"
          ]
        }
      ]
    },
    {
      "cell_type": "markdown",
      "source": [
        "4) count( ):\n",
        "\n",
        "\n",
        "*   Counts how many times a specific substring appears in a string.\n",
        "*   It is case-sensitive, [\"Hello\".count(\"h\") and \"Hello\".count(\"H\") give different results].\n",
        "\n"
      ],
      "metadata": {
        "id": "Am-236nQ2Qpj"
      }
    },
    {
      "cell_type": "code",
      "source": [
        "a = \"hello hello Hello\"\n",
        "a.count('h')"
      ],
      "metadata": {
        "colab": {
          "base_uri": "https://localhost:8080/"
        },
        "id": "i_hBb61o2OMS",
        "outputId": "6a4b3958-dbe0-4d4b-9d73-e9f6ae25aae4"
      },
      "execution_count": null,
      "outputs": [
        {
          "output_type": "execute_result",
          "data": {
            "text/plain": [
              "2"
            ]
          },
          "metadata": {},
          "execution_count": 66
        }
      ]
    },
    {
      "cell_type": "code",
      "source": [
        "print(\"BOOKING START AT 10PM\".count('O'))"
      ],
      "metadata": {
        "colab": {
          "base_uri": "https://localhost:8080/"
        },
        "id": "x6OE5x5E22BN",
        "outputId": "4d5fb454-90ba-4ab6-a3c3-90fe7ba08843"
      },
      "execution_count": null,
      "outputs": [
        {
          "output_type": "stream",
          "name": "stdout",
          "text": [
            "2\n"
          ]
        }
      ]
    },
    {
      "cell_type": "markdown",
      "source": [
        "5) split( ):\n",
        "\n",
        "\n",
        "*   Breaks a string into a list of words based on a separator (default is space).\n",
        "*   It helps in processing sentences by dividing them into smaller parts.\n",
        "\n"
      ],
      "metadata": {
        "id": "ZlZPw_013Ph9"
      }
    },
    {
      "cell_type": "code",
      "source": [
        "a = \"BOOKING START AT 10PM\"\n",
        "a.split()"
      ],
      "metadata": {
        "colab": {
          "base_uri": "https://localhost:8080/"
        },
        "id": "bclx308X3MdV",
        "outputId": "46c5e5e6-e63a-4276-eb60-0d42896e38e6"
      },
      "execution_count": null,
      "outputs": [
        {
          "output_type": "execute_result",
          "data": {
            "text/plain": [
              "['BOOKING', 'START', 'AT', '10PM']"
            ]
          },
          "metadata": {},
          "execution_count": 68
        }
      ]
    },
    {
      "cell_type": "code",
      "source": [
        "print(\"BOOKING START AT 10PM\".split())"
      ],
      "metadata": {
        "colab": {
          "base_uri": "https://localhost:8080/"
        },
        "id": "2cYdSzvb3l-d",
        "outputId": "931ce60b-55a6-4df8-f099-2785fedefb5e"
      },
      "execution_count": null,
      "outputs": [
        {
          "output_type": "stream",
          "name": "stdout",
          "text": [
            "['BOOKING', 'START', 'AT', '10PM']\n"
          ]
        }
      ]
    },
    {
      "cell_type": "markdown",
      "source": [
        "6) strip( ):\n",
        "\n",
        "\n",
        "*   Removes spaces (or specified characters) from the beginning and end of a string.\n",
        "*   It does not change the original string but returns a new trimmed version.\n",
        "\n"
      ],
      "metadata": {
        "id": "LR7U0itf3wzh"
      }
    },
    {
      "cell_type": "code",
      "source": [
        "a = \"  BOOKING START AT 10PM  \"\n",
        "a.strip()"
      ],
      "metadata": {
        "colab": {
          "base_uri": "https://localhost:8080/",
          "height": 36
        },
        "id": "wzsoeSgW3q5Z",
        "outputId": "f4ed578b-699e-413f-9f8c-68d7f3cfd012"
      },
      "execution_count": null,
      "outputs": [
        {
          "output_type": "execute_result",
          "data": {
            "text/plain": [
              "'BOOKING START AT 10PM'"
            ],
            "application/vnd.google.colaboratory.intrinsic+json": {
              "type": "string"
            }
          },
          "metadata": {},
          "execution_count": 70
        }
      ]
    },
    {
      "cell_type": "code",
      "source": [
        "print(\"  BOOKING START AT 10PM  \".strip())"
      ],
      "metadata": {
        "colab": {
          "base_uri": "https://localhost:8080/"
        },
        "id": "714G1l5G4TDF",
        "outputId": "5a0f3268-34e3-43e8-e74d-9c1a69d7a583"
      },
      "execution_count": null,
      "outputs": [
        {
          "output_type": "stream",
          "name": "stdout",
          "text": [
            "BOOKING START AT 10PM\n"
          ]
        }
      ]
    },
    {
      "cell_type": "markdown",
      "source": [
        "7) center( ):\n",
        "*   The center(width, fillchar) method in Python returns a new string that is centered within the given width, using the specified fill character (default is a space).\n"
      ],
      "metadata": {
        "id": "DQL41_OAwz_r"
      }
    },
    {
      "cell_type": "code",
      "source": [
        "a = \"hello\"\n",
        "print(a.center(9, \"_\"))"
      ],
      "metadata": {
        "colab": {
          "base_uri": "https://localhost:8080/"
        },
        "id": "_6s1o3ixxtFG",
        "outputId": "db1836a5-eb7d-45ab-fb9c-f6d127ad09fb"
      },
      "execution_count": null,
      "outputs": [
        {
          "output_type": "stream",
          "name": "stdout",
          "text": [
            "__hello__\n"
          ]
        }
      ]
    },
    {
      "cell_type": "markdown",
      "source": [
        "8) endswith( ):\n",
        "\n",
        "\n",
        "*   string ends with the specified suffix and returns True or False.\n",
        "*    It can also check within a specific range using optional start and end parameters.\n",
        "\n"
      ],
      "metadata": {
        "id": "fo4Y5p4SyzMQ"
      }
    },
    {
      "cell_type": "code",
      "source": [
        "a = \"hello world\"\n",
        "print(a.endswith(\"world\"))"
      ],
      "metadata": {
        "colab": {
          "base_uri": "https://localhost:8080/"
        },
        "id": "ZxvL7Zdiyoil",
        "outputId": "6e15eb93-79fb-45d0-b54b-dd55c1171fe0"
      },
      "execution_count": null,
      "outputs": [
        {
          "output_type": "stream",
          "name": "stdout",
          "text": [
            "True\n"
          ]
        }
      ]
    },
    {
      "cell_type": "code",
      "source": [
        "print(\"hello world\".endswith(\"d\"))"
      ],
      "metadata": {
        "colab": {
          "base_uri": "https://localhost:8080/"
        },
        "id": "o9OsuDy00ISc",
        "outputId": "8929378a-2c3d-45f2-eaa7-1c81dee42718"
      },
      "execution_count": null,
      "outputs": [
        {
          "output_type": "stream",
          "name": "stdout",
          "text": [
            "True\n"
          ]
        }
      ]
    },
    {
      "cell_type": "markdown",
      "source": [
        "9) expandtabs():\n",
        "\n",
        "\n",
        "*   Replaces tab characters (\\t) in a string with spaces.\n",
        "*   The tabsize parameter (default is 8) specifies the number of spaces per tab.\n",
        "\n"
      ],
      "metadata": {
        "id": "uoFMbvXa6Xs8"
      }
    },
    {
      "cell_type": "code",
      "source": [
        "a = \"Hello\\tWorld\"\n",
        "print(a.expandtabs(4))"
      ],
      "metadata": {
        "colab": {
          "base_uri": "https://localhost:8080/"
        },
        "id": "liyp2kr66leD",
        "outputId": "27e32a74-5061-4c28-ba7a-2098f4c9d0a6"
      },
      "execution_count": null,
      "outputs": [
        {
          "output_type": "stream",
          "name": "stdout",
          "text": [
            "Hello   World\n"
          ]
        }
      ]
    },
    {
      "cell_type": "code",
      "source": [
        "print(\"Hello\\tWorld\".expandtabs(4))"
      ],
      "metadata": {
        "colab": {
          "base_uri": "https://localhost:8080/"
        },
        "id": "hx-F9yfM6pjA",
        "outputId": "15a1e892-e5aa-4570-f558-87396f12ef83"
      },
      "execution_count": null,
      "outputs": [
        {
          "output_type": "stream",
          "name": "stdout",
          "text": [
            "Hello   World\n"
          ]
        }
      ]
    },
    {
      "cell_type": "markdown",
      "source": [
        "10) find( ):\n",
        "\n",
        "\n",
        "*   Returns the lowest index of the specified substring within the string.\n",
        "*   If the substring is not found, it returns -1.\n",
        "\n"
      ],
      "metadata": {
        "id": "gM22P8Lh65Pe"
      }
    },
    {
      "cell_type": "code",
      "source": [
        "a = \"hello world\"\n",
        "print(a.find(\"world\"))"
      ],
      "metadata": {
        "colab": {
          "base_uri": "https://localhost:8080/"
        },
        "id": "TSX0qWdc63uu",
        "outputId": "8f415832-9f73-44ce-e459-7a9bcc2a48fb"
      },
      "execution_count": null,
      "outputs": [
        {
          "output_type": "stream",
          "name": "stdout",
          "text": [
            "6\n"
          ]
        }
      ]
    },
    {
      "cell_type": "code",
      "source": [
        "print(\"Hello World\".find(\"Python\"))"
      ],
      "metadata": {
        "colab": {
          "base_uri": "https://localhost:8080/"
        },
        "id": "BBSogzfq7V6v",
        "outputId": "ef331ad9-94c8-4ad2-d65b-525b0c8265df"
      },
      "execution_count": null,
      "outputs": [
        {
          "output_type": "stream",
          "name": "stdout",
          "text": [
            "-1\n"
          ]
        }
      ]
    },
    {
      "cell_type": "markdown",
      "source": [
        "11) replace( ):\n",
        "\n",
        "\n",
        "*   Returns a new string where all occurrences of the old substring are replaced with new.\n",
        "*   replace(old, new, count) The optional count parameter specifies how many replacements to make.\n",
        "\n"
      ],
      "metadata": {
        "id": "iVf_bG_H7iv5"
      }
    },
    {
      "cell_type": "code",
      "source": [
        "a = \"hello world\"\n",
        "print(a.replace(\"world\", \"Python\"))"
      ],
      "metadata": {
        "colab": {
          "base_uri": "https://localhost:8080/"
        },
        "id": "zBLV2X4N7hZY",
        "outputId": "2d7a1501-a222-47db-f0b4-2cf324b939b1"
      },
      "execution_count": null,
      "outputs": [
        {
          "output_type": "stream",
          "name": "stdout",
          "text": [
            "hello Python\n"
          ]
        }
      ]
    },
    {
      "cell_type": "code",
      "source": [
        "print(\"hello world\".replace(\"o\",\"#\",1))"
      ],
      "metadata": {
        "colab": {
          "base_uri": "https://localhost:8080/"
        },
        "id": "B7ZGRwQY9KxX",
        "outputId": "e8d8775e-3844-4320-8ac9-7307026ca7d1"
      },
      "execution_count": null,
      "outputs": [
        {
          "output_type": "stream",
          "name": "stdout",
          "text": [
            "hell# world\n"
          ]
        }
      ]
    },
    {
      "cell_type": "code",
      "source": [
        "print(\"hello world\".replace(\"o\",\"#\",2))"
      ],
      "metadata": {
        "colab": {
          "base_uri": "https://localhost:8080/"
        },
        "id": "YitBqFx_9eQi",
        "outputId": "54a2972b-623e-4389-86c3-5397c6c45c05"
      },
      "execution_count": null,
      "outputs": [
        {
          "output_type": "stream",
          "name": "stdout",
          "text": [
            "hell# w#rld\n"
          ]
        }
      ]
    },
    {
      "cell_type": "markdown",
      "source": [
        "12) translate( ):\n",
        "\n",
        "\n",
        "*   replaces characters in a string based on a translation table created using str.maketrans().\n",
        "\n",
        "\n"
      ],
      "metadata": {
        "id": "-fE7X4Te9mMu"
      }
    },
    {
      "cell_type": "code",
      "source": [
        "a = str.maketrans(\"aeiou\", \"12345\")\n",
        "b = \"hello world\"\n",
        "print(b.translate(a))"
      ],
      "metadata": {
        "colab": {
          "base_uri": "https://localhost:8080/"
        },
        "id": "_HBejRtu9ho1",
        "outputId": "8030eb18-8b6f-4345-edc2-395b68ff4a7d"
      },
      "execution_count": null,
      "outputs": [
        {
          "output_type": "stream",
          "name": "stdout",
          "text": [
            "h2ll4 w4rld\n"
          ]
        }
      ]
    },
    {
      "cell_type": "code",
      "source": [
        "print(\"hello world\".translate(str.maketrans(\"aeiou\", \"12345\")))"
      ],
      "metadata": {
        "colab": {
          "base_uri": "https://localhost:8080/"
        },
        "id": "X-Lc5ut998V8",
        "outputId": "bbd4f8bc-fbd6-460f-91c5-e6c4c8ff355a"
      },
      "execution_count": null,
      "outputs": [
        {
          "output_type": "stream",
          "name": "stdout",
          "text": [
            "h2ll4 w4rld\n"
          ]
        }
      ]
    }
  ]
}