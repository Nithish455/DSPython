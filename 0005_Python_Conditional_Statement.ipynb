{
  "nbformat": 4,
  "nbformat_minor": 0,
  "metadata": {
    "colab": {
      "provenance": []
    },
    "kernelspec": {
      "name": "python3",
      "display_name": "Python 3"
    },
    "language_info": {
      "name": "python"
    }
  },
  "cells": [
    {
      "cell_type": "markdown",
      "source": [
        "# Conditional Statements:\n",
        "**1) If statement:** If statement is the simplest form of a conditional statement. It executes a block of code if the given condition is true."
      ],
      "metadata": {
        "id": "cyBb1V-a8Yr-"
      }
    },
    {
      "cell_type": "code",
      "execution_count": 1,
      "metadata": {
        "colab": {
          "base_uri": "https://localhost:8080/"
        },
        "id": "dVFaz9RD8L29",
        "outputId": "ebe222a9-49b1-48ba-967c-54812d1ead8c"
      },
      "outputs": [
        {
          "output_type": "stream",
          "name": "stdout",
          "text": [
            "Enter a number:22\n",
            "Given Number is positive\n"
          ]
        }
      ],
      "source": [
        "a = int(input(\"Enter a number:\"))\n",
        "if a > 0:\n",
        "  print(\"Given Number is positive\")"
      ]
    },
    {
      "cell_type": "markdown",
      "source": [
        "**2) if-else( ):**Executes one block if the condition is True then gives the output, otherwise executes another block."
      ],
      "metadata": {
        "id": "WTX-W_YO-577"
      }
    },
    {
      "cell_type": "code",
      "source": [
        "a = int(input(\"Enter your age\"))\n",
        "if a >= 18:\n",
        "  print(\"You are eligible for voting\")\n",
        "else:\n",
        "  print(\"You are not eligible for voting\")"
      ],
      "metadata": {
        "colab": {
          "base_uri": "https://localhost:8080/"
        },
        "id": "iBw_xUni-3Cj",
        "outputId": "82ebc4a4-99c5-49da-b88c-2df17ff1c35f"
      },
      "execution_count": 2,
      "outputs": [
        {
          "output_type": "stream",
          "name": "stdout",
          "text": [
            "Enter your age22\n",
            "You are eligible for voting\n"
          ]
        }
      ]
    },
    {
      "cell_type": "markdown",
      "source": [
        "**3) elif:** Allows checking multiple conditions.\n"
      ],
      "metadata": {
        "id": "B70Kw1FuAhR0"
      }
    },
    {
      "cell_type": "code",
      "source": [
        "a = int(input(\"Enter a number:\"))\n",
        "if a > 0:\n",
        "  print(\"Given number is positive\")\n",
        "elif a < 0:\n",
        "  print(\"Given number is negative\")\n",
        "else:\n",
        "  print(\"Given number is zero\")"
      ],
      "metadata": {
        "colab": {
          "base_uri": "https://localhost:8080/"
        },
        "id": "4CK_t9iIAfNr",
        "outputId": "8beea72a-fd14-4569-adae-16af6552d6b0"
      },
      "execution_count": 3,
      "outputs": [
        {
          "output_type": "stream",
          "name": "stdout",
          "text": [
            "Enter a number:22\n",
            "Given number is positive\n"
          ]
        }
      ]
    }
  ]
}