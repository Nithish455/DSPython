{
  "nbformat": 4,
  "nbformat_minor": 0,
  "metadata": {
    "colab": {
      "provenance": []
    },
    "kernelspec": {
      "name": "python3",
      "display_name": "Python 3"
    },
    "language_info": {
      "name": "python"
    }
  },
  "cells": [
    {
      "cell_type": "markdown",
      "source": [
        "# Numpy:\n",
        "*   NumPy (Numerical Python) is a powerful library in Python for numerical computing.\n",
        "*   It provides support for large, multi-dimensional arrays and matrices, along with a collection of mathematical functions to operate on these data structures efficiently.\n",
        "\n"
      ],
      "metadata": {
        "id": "ab2xjUEJCooS"
      }
    },
    {
      "cell_type": "markdown",
      "source": [
        "#Install numpy:"
      ],
      "metadata": {
        "id": "Bz9EXaffD4bt"
      }
    },
    {
      "cell_type": "code",
      "execution_count": null,
      "metadata": {
        "colab": {
          "base_uri": "https://localhost:8080/"
        },
        "id": "gyy1CUnXCd3b",
        "outputId": "6bc2a5e3-9691-4cd7-eb27-a3427af437e2"
      },
      "outputs": [
        {
          "output_type": "stream",
          "name": "stdout",
          "text": [
            "Requirement already satisfied: numpy in /usr/local/lib/python3.11/dist-packages (1.26.4)\n"
          ]
        }
      ],
      "source": [
        "!pip install numpy"
      ]
    },
    {
      "cell_type": "markdown",
      "source": [
        "Import numpy:"
      ],
      "metadata": {
        "id": "X9jhmtqmEzUR"
      }
    },
    {
      "cell_type": "code",
      "source": [
        "import numpy as np"
      ],
      "metadata": {
        "id": "c-gXxkEWEySK"
      },
      "execution_count": null,
      "outputs": []
    },
    {
      "cell_type": "code",
      "source": [
        "a = np.array ([1,2,3])\n",
        "print(a)"
      ],
      "metadata": {
        "colab": {
          "base_uri": "https://localhost:8080/"
        },
        "id": "oY5XCnYCE3C8",
        "outputId": "fdb307f9-5864-4761-f1d2-37cad15aec11"
      },
      "execution_count": null,
      "outputs": [
        {
          "output_type": "stream",
          "name": "stdout",
          "text": [
            "[1 2 3]\n"
          ]
        }
      ]
    },
    {
      "cell_type": "code",
      "source": [
        "b = np.array([[1,2,3],[4,5,6]])\n",
        "print(b)"
      ],
      "metadata": {
        "colab": {
          "base_uri": "https://localhost:8080/"
        },
        "id": "-j-O3fm8I2Z2",
        "outputId": "7a22c645-5194-4f35-c62f-7a1b602f08e1"
      },
      "execution_count": null,
      "outputs": [
        {
          "output_type": "stream",
          "name": "stdout",
          "text": [
            "[[1 2 3]\n",
            " [4 5 6]]\n"
          ]
        }
      ]
    },
    {
      "cell_type": "code",
      "source": [
        "c = np.array([[[1,2,3],[4,5,6],[7,8,9]]])\n",
        "print(c)"
      ],
      "metadata": {
        "colab": {
          "base_uri": "https://localhost:8080/"
        },
        "id": "D1LVrhxYKGoU",
        "outputId": "08f320a7-7741-4972-f726-5b33cea180c0"
      },
      "execution_count": null,
      "outputs": [
        {
          "output_type": "stream",
          "name": "stdout",
          "text": [
            "[[[1 2 3]\n",
            "  [4 5 6]\n",
            "  [7 8 9]]]\n"
          ]
        }
      ]
    },
    {
      "cell_type": "markdown",
      "source": [
        "#Create a array of zero:"
      ],
      "metadata": {
        "id": "WyZS3ky4KdFV"
      }
    },
    {
      "cell_type": "code",
      "source": [
        "np.zeros((2,4))  #np.zeros(no.of_rows , no.of_columns)"
      ],
      "metadata": {
        "colab": {
          "base_uri": "https://localhost:8080/"
        },
        "id": "fvoECxHxKXBG",
        "outputId": "a6ce77e4-3245-4036-8bcb-1245ee479b71"
      },
      "execution_count": null,
      "outputs": [
        {
          "output_type": "execute_result",
          "data": {
            "text/plain": [
              "array([[0., 0., 0., 0.],\n",
              "       [0., 0., 0., 0.]])"
            ]
          },
          "metadata": {},
          "execution_count": 13
        }
      ]
    },
    {
      "cell_type": "markdown",
      "source": [
        "#Create a array of ones:"
      ],
      "metadata": {
        "id": "qC8Wjb4JKzeu"
      }
    },
    {
      "cell_type": "code",
      "source": [
        "np.ones((3,2,4))  #np.ones((shape_of_the_dimention , no.of_rows , no.of_columns))"
      ],
      "metadata": {
        "colab": {
          "base_uri": "https://localhost:8080/"
        },
        "id": "u7OIoyWUKk8J",
        "outputId": "515562e2-6934-4fd8-85a1-82f62154103a"
      },
      "execution_count": null,
      "outputs": [
        {
          "output_type": "execute_result",
          "data": {
            "text/plain": [
              "array([[[1., 1., 1., 1.],\n",
              "        [1., 1., 1., 1.]],\n",
              "\n",
              "       [[1., 1., 1., 1.],\n",
              "        [1., 1., 1., 1.]],\n",
              "\n",
              "       [[1., 1., 1., 1.],\n",
              "        [1., 1., 1., 1.]]])"
            ]
          },
          "metadata": {},
          "execution_count": 15
        }
      ]
    },
    {
      "cell_type": "markdown",
      "source": [
        "#Create a array of evenly spaced values(using step value):"
      ],
      "metadata": {
        "id": "a1P2HBzILbPu"
      }
    },
    {
      "cell_type": "code",
      "source": [
        "d = np.arange(1,20,5)     #variable = np.arange(starting_value , ending_value , step_size)\n",
        "print(d)"
      ],
      "metadata": {
        "colab": {
          "base_uri": "https://localhost:8080/"
        },
        "id": "0_q1D-a5K8Aq",
        "outputId": "f7665059-8f89-4fc7-b7ac-b2590b05d445"
      },
      "execution_count": null,
      "outputs": [
        {
          "output_type": "stream",
          "name": "stdout",
          "text": [
            "[ 1  6 11 16]\n"
          ]
        }
      ]
    },
    {
      "cell_type": "code",
      "source": [
        "e = np.arange(1,1000,10)\n",
        "print(e)"
      ],
      "metadata": {
        "colab": {
          "base_uri": "https://localhost:8080/"
        },
        "id": "ZlE9mchfMPgz",
        "outputId": "e3527ad9-7a3f-4871-8907-54e4125df213"
      },
      "execution_count": null,
      "outputs": [
        {
          "output_type": "stream",
          "name": "stdout",
          "text": [
            "[  1  11  21  31  41  51  61  71  81  91 101 111 121 131 141 151 161 171\n",
            " 181 191 201 211 221 231 241 251 261 271 281 291 301 311 321 331 341 351\n",
            " 361 371 381 391 401 411 421 431 441 451 461 471 481 491 501 511 521 531\n",
            " 541 551 561 571 581 591 601 611 621 631 641 651 661 671 681 691 701 711\n",
            " 721 731 741 751 761 771 781 791 801 811 821 831 841 851 861 871 881 891\n",
            " 901 911 921 931 941 951 961 971 981 991]\n"
          ]
        }
      ]
    },
    {
      "cell_type": "markdown",
      "source": [
        "#Create a array of evenly spaced values(no.of samples):"
      ],
      "metadata": {
        "id": "kbGLTM06MO9Y"
      }
    },
    {
      "cell_type": "code",
      "source": [
        "f = np.linspace(1,2,15)    #variable = np.linspace(starting_value , endling_value , No.of_samples)\n",
        "print(f)"
      ],
      "metadata": {
        "colab": {
          "base_uri": "https://localhost:8080/"
        },
        "id": "GsJj202SL1g7",
        "outputId": "e7e6c61f-cfad-4f75-ce34-f5f347bb3366"
      },
      "execution_count": null,
      "outputs": [
        {
          "output_type": "stream",
          "name": "stdout",
          "text": [
            "[1.         1.07142857 1.14285714 1.21428571 1.28571429 1.35714286\n",
            " 1.42857143 1.5        1.57142857 1.64285714 1.71428571 1.78571429\n",
            " 1.85714286 1.92857143 2.        ]\n"
          ]
        }
      ]
    },
    {
      "cell_type": "markdown",
      "source": [
        "#Create a constant array:"
      ],
      "metadata": {
        "id": "PpaBvPQqNNvv"
      }
    },
    {
      "cell_type": "code",
      "source": [
        "g = np.full((4),2)   # variable = np.full((no.of_column),value_need to be stored in array)\n",
        "print(g)             #1D array"
      ],
      "metadata": {
        "colab": {
          "base_uri": "https://localhost:8080/"
        },
        "id": "e86gdkEcM5bR",
        "outputId": "58b0af0b-f6f5-4c2c-c142-2d14c1758809"
      },
      "execution_count": null,
      "outputs": [
        {
          "output_type": "stream",
          "name": "stdout",
          "text": [
            "[2 2 2 2]\n"
          ]
        }
      ]
    },
    {
      "cell_type": "code",
      "source": [
        "h = np.full((2,3),2)  # variable = np.full((no.of_rows,no.of_column),value_need to be stored in array)\n",
        "print(h)              #2D array"
      ],
      "metadata": {
        "colab": {
          "base_uri": "https://localhost:8080/"
        },
        "id": "K9jL6F8tNOnK",
        "outputId": "8c53e810-1f6d-4469-e7db-af217925adc8"
      },
      "execution_count": null,
      "outputs": [
        {
          "output_type": "stream",
          "name": "stdout",
          "text": [
            "[[2 2 2]\n",
            " [2 2 2]]\n"
          ]
        }
      ]
    },
    {
      "cell_type": "code",
      "source": [
        "i = np.full((3,3,4),2)  # variable = np.full((no.of_dimention,no.of_rows,no.of_column),value_need to be stored in array)\n",
        "print(i)                #3D array"
      ],
      "metadata": {
        "colab": {
          "base_uri": "https://localhost:8080/"
        },
        "id": "7frRkqvTNPIi",
        "outputId": "16e126bd-da75-4a88-ca85-504cdfd8a33e"
      },
      "execution_count": null,
      "outputs": [
        {
          "output_type": "stream",
          "name": "stdout",
          "text": [
            "[[[2 2 2 2]\n",
            "  [2 2 2 2]\n",
            "  [2 2 2 2]]\n",
            "\n",
            " [[2 2 2 2]\n",
            "  [2 2 2 2]\n",
            "  [2 2 2 2]]\n",
            "\n",
            " [[2 2 2 2]\n",
            "  [2 2 2 2]\n",
            "  [2 2 2 2]]]\n"
          ]
        }
      ]
    },
    {
      "cell_type": "markdown",
      "source": [
        "#Create a identity matrix:"
      ],
      "metadata": {
        "id": "V9As1T4JNPmE"
      }
    },
    {
      "cell_type": "code",
      "source": [
        "j = np.eye(2)  #variable = np.eye(no.of_rows)\n",
        "print(j)"
      ],
      "metadata": {
        "colab": {
          "base_uri": "https://localhost:8080/"
        },
        "id": "SbVf_aD-O1iz",
        "outputId": "43e20eed-a412-4d86-d292-b16ee0f3c835"
      },
      "execution_count": null,
      "outputs": [
        {
          "output_type": "stream",
          "name": "stdout",
          "text": [
            "[[1. 0.]\n",
            " [0. 1.]]\n"
          ]
        }
      ]
    },
    {
      "cell_type": "markdown",
      "source": [
        "#Create a array with random values:"
      ],
      "metadata": {
        "id": "m4lYaxH0O00V"
      }
    },
    {
      "cell_type": "code",
      "source": [
        "k = np.random.random((2,2))  #variable = np.random.random((no.of_rows,no.of_column))\n",
        "print(k)"
      ],
      "metadata": {
        "colab": {
          "base_uri": "https://localhost:8080/"
        },
        "id": "Jd5EDn3wPAE4",
        "outputId": "b2459a28-135c-4e07-888f-ce76642cc9f2"
      },
      "execution_count": null,
      "outputs": [
        {
          "output_type": "stream",
          "name": "stdout",
          "text": [
            "[[0.2042871  0.49170766]\n",
            " [0.62966284 0.54882619]]\n"
          ]
        }
      ]
    },
    {
      "cell_type": "markdown",
      "source": [
        "#Shape of an array:"
      ],
      "metadata": {
        "id": "nwtIhay1PSkE"
      }
    },
    {
      "cell_type": "code",
      "source": [
        "l = np.array([[1,2,3],[4,5,6],[7,8,9]])\n",
        "print(l)\n",
        "print(l.shape)      #(no.of_rows , no.of_columns)"
      ],
      "metadata": {
        "colab": {
          "base_uri": "https://localhost:8080/"
        },
        "id": "aXXFG50TPCUn",
        "outputId": "821e09d4-a8c6-417b-e031-4e6134434018"
      },
      "execution_count": null,
      "outputs": [
        {
          "output_type": "stream",
          "name": "stdout",
          "text": [
            "[[1 2 3]\n",
            " [4 5 6]\n",
            " [7 8 9]]\n",
            "(3, 3)\n"
          ]
        }
      ]
    },
    {
      "cell_type": "markdown",
      "source": [
        "#Find no.of elements in a array:"
      ],
      "metadata": {
        "id": "XN_7TrIqQQ89"
      }
    },
    {
      "cell_type": "code",
      "source": [
        "m = np.array([[1,2,3],[4,5,6],[7,8,9]])\n",
        "print(m)\n",
        "print(m.size)"
      ],
      "metadata": {
        "colab": {
          "base_uri": "https://localhost:8080/"
        },
        "id": "WmUZG4FwPl2d",
        "outputId": "1584597c-909d-47d3-f085-6ecdf167b0da"
      },
      "execution_count": null,
      "outputs": [
        {
          "output_type": "stream",
          "name": "stdout",
          "text": [
            "[[1 2 3]\n",
            " [4 5 6]\n",
            " [7 8 9]]\n",
            "9\n"
          ]
        }
      ]
    },
    {
      "cell_type": "markdown",
      "source": [
        "#Find length of the array:"
      ],
      "metadata": {
        "id": "dlyxCcSzQ2U5"
      }
    },
    {
      "cell_type": "code",
      "source": [
        "n = np.array([[[1,2,3],\n",
        "              [4,5,6],\n",
        "              [7,8,9]]])\n",
        "print(n)\n",
        "print(n.shape)\n",
        "len(n)"
      ],
      "metadata": {
        "colab": {
          "base_uri": "https://localhost:8080/"
        },
        "id": "GYL2KKckQyNU",
        "outputId": "c58663b1-02a1-4afb-bc6b-941ffd8c5940"
      },
      "execution_count": null,
      "outputs": [
        {
          "output_type": "stream",
          "name": "stdout",
          "text": [
            "[[[1 2 3]\n",
            "  [4 5 6]\n",
            "  [7 8 9]]]\n",
            "(1, 3, 3)\n"
          ]
        },
        {
          "output_type": "execute_result",
          "data": {
            "text/plain": [
              "1"
            ]
          },
          "metadata": {},
          "execution_count": 57
        }
      ]
    },
    {
      "cell_type": "markdown",
      "source": [
        "#Access array elements:"
      ],
      "metadata": {
        "id": "aFNqvSYaSEIn"
      }
    },
    {
      "cell_type": "markdown",
      "source": [
        "Access 1D array elements using index value:"
      ],
      "metadata": {
        "id": "zN_GTvuASL-W"
      }
    },
    {
      "cell_type": "code",
      "source": [
        "o = np.array([1,2,3,4,5,6])\n",
        "print(o)\n",
        "print(o[0])"
      ],
      "metadata": {
        "colab": {
          "base_uri": "https://localhost:8080/"
        },
        "id": "6T71zDDyRLbF",
        "outputId": "834b2b87-0a41-4345-fec9-00e030bb2142"
      },
      "execution_count": null,
      "outputs": [
        {
          "output_type": "stream",
          "name": "stdout",
          "text": [
            "[1 2 3 4 5 6]\n",
            "1\n"
          ]
        }
      ]
    },
    {
      "cell_type": "markdown",
      "source": [
        "Access 2D array elements using index values:"
      ],
      "metadata": {
        "id": "CdMm7pnrSYk5"
      }
    },
    {
      "cell_type": "code",
      "source": [
        "p = np.array([[1,2,3],[4,5,6]])\n",
        "print(p)\n",
        "print(p[1,2])     #print( variable_name [index of 1D array , index of value])"
      ],
      "metadata": {
        "colab": {
          "base_uri": "https://localhost:8080/"
        },
        "id": "7gck7MYDSXYy",
        "outputId": "a384342c-b23e-475b-b854-4766c3178e40"
      },
      "execution_count": null,
      "outputs": [
        {
          "output_type": "stream",
          "name": "stdout",
          "text": [
            "[[1 2 3]\n",
            " [4 5 6]]\n",
            "6\n"
          ]
        }
      ]
    },
    {
      "cell_type": "markdown",
      "source": [
        "Access 3D array using index value:"
      ],
      "metadata": {
        "id": "mzEVcz8xStct"
      }
    },
    {
      "cell_type": "code",
      "source": [
        "q = np.array([[[1,2,3],[4,5,6],[7,8,9]]])\n",
        "print(q)\n",
        "print()"
      ],
      "metadata": {
        "colab": {
          "base_uri": "https://localhost:8080/"
        },
        "id": "fe9irtEFSfAF",
        "outputId": "414cb2e9-4a99-4d4a-f4dd-7e9bc94facbc"
      },
      "execution_count": null,
      "outputs": [
        {
          "output_type": "stream",
          "name": "stdout",
          "text": [
            "[[[1 2 3]\n",
            "  [4 5 6]\n",
            "  [7 8 9]]]\n",
            "\n"
          ]
        }
      ]
    },
    {
      "cell_type": "markdown",
      "source": [
        "#Data types in numpy\n",
        "1. i - integer\n",
        "2. b - boolean\n",
        "3. f - float\n",
        "4. c - complex\n",
        "5. M - Datetime\n",
        "6. O - object\n",
        "7. S - string\n"
      ],
      "metadata": {
        "id": "8G0nUmVcTtas"
      }
    },
    {
      "cell_type": "code",
      "source": [
        "r = np.array([1,2,3])\n",
        "print(r)\n",
        "print(r.dtype)"
      ],
      "metadata": {
        "colab": {
          "base_uri": "https://localhost:8080/"
        },
        "id": "E9UzNwJtTNoP",
        "outputId": "95e42f9d-bd2e-470a-a90c-98029857bdd1"
      },
      "execution_count": null,
      "outputs": [
        {
          "output_type": "stream",
          "name": "stdout",
          "text": [
            "[1 2 3]\n",
            "int64\n"
          ]
        }
      ]
    },
    {
      "cell_type": "code",
      "source": [
        "#type convertion int to float\n",
        "s = np.array([1,2,3],dtype='f')\n",
        "print(s)\n",
        "print(s.dtype)"
      ],
      "metadata": {
        "colab": {
          "base_uri": "https://localhost:8080/"
        },
        "id": "mLfb-tNNVALD",
        "outputId": "e062dd98-ae9e-47e3-b5eb-8b0c22b16a3f"
      },
      "execution_count": null,
      "outputs": [
        {
          "output_type": "stream",
          "name": "stdout",
          "text": [
            "[1. 2. 3.]\n",
            "float32\n"
          ]
        }
      ]
    },
    {
      "cell_type": "code",
      "source": [
        "#type convertion int to complex\n",
        "t = np.array([1,2,3],dtype='c')\n",
        "print(t)\n",
        "print(t.dtype)"
      ],
      "metadata": {
        "colab": {
          "base_uri": "https://localhost:8080/"
        },
        "id": "DBsBmpKqVdx6",
        "outputId": "cf39170c-97cc-4125-9685-fae8e58f4ef3"
      },
      "execution_count": null,
      "outputs": [
        {
          "output_type": "stream",
          "name": "stdout",
          "text": [
            "[b'1' b'2' b'3']\n",
            "|S1\n"
          ]
        }
      ]
    },
    {
      "cell_type": "code",
      "source": [
        "#type conertion int to boolean using as parameter\n",
        "u = np.array([0,1,2,3])\n",
        "v = u.astype(bool)\n",
        "print(v)\n",
        "print(v.dtype)"
      ],
      "metadata": {
        "colab": {
          "base_uri": "https://localhost:8080/"
        },
        "id": "cWN2ojJoVjqT",
        "outputId": "5e0eff89-131f-4799-b1d5-bbac77dbbfa2"
      },
      "execution_count": null,
      "outputs": [
        {
          "output_type": "stream",
          "name": "stdout",
          "text": [
            "[False  True  True  True]\n",
            "bool\n"
          ]
        }
      ]
    },
    {
      "cell_type": "markdown",
      "source": [
        "#Copy Method:\n",
        "\n",
        "*   The .copy() method is used to create a deep copy of an array.\n",
        "*   This means that the copied array has its own separate memory location, and changes to the original array do not affect the copied array.\n",
        "\n"
      ],
      "metadata": {
        "id": "nwOLSJm9V9ru"
      }
    },
    {
      "cell_type": "code",
      "source": [
        "w = np.array([1,2,3,4,5])\n",
        "x = w.copy()\n",
        "print(\"w=\",w)\n",
        "w[2]= 6\n",
        "print(\"w=\",w)\n",
        "print(\"x=\",x)"
      ],
      "metadata": {
        "colab": {
          "base_uri": "https://localhost:8080/"
        },
        "id": "Ng4D2AksV08K",
        "outputId": "082ccc67-8d17-4105-f7df-b5ef6f32377b"
      },
      "execution_count": null,
      "outputs": [
        {
          "output_type": "stream",
          "name": "stdout",
          "text": [
            "w= [1 2 3 4 5]\n",
            "w= [1 2 6 4 5]\n",
            "x= [1 2 3 4 5]\n"
          ]
        }
      ]
    },
    {
      "cell_type": "markdown",
      "source": [
        "#View Method:\n",
        "\n",
        "\n",
        "*   The .view() method creates a shallow copy (or view) of an array.\n",
        "*   This means that the new array shares the same data as the original array but has a different object identity.\n",
        "*     Any modifications made to one array will affect the other.\n",
        "\n",
        "\n",
        "\n"
      ],
      "metadata": {
        "id": "_kpMJUBMXP0g"
      }
    },
    {
      "cell_type": "code",
      "source": [
        "y = np.array([1,2,3,4,5])\n",
        "z = y.view()\n",
        "print(\"y=\",y)\n",
        "print(\"z=\",z)\n",
        "y[2]= 6\n",
        "z[3]= 7\n",
        "print(\"y=\",y)\n",
        "print(\"z=\",z)"
      ],
      "metadata": {
        "colab": {
          "base_uri": "https://localhost:8080/"
        },
        "id": "PBxielvNW8z8",
        "outputId": "b549d26d-0174-4f80-c704-8ddbe04043de"
      },
      "execution_count": null,
      "outputs": [
        {
          "output_type": "stream",
          "name": "stdout",
          "text": [
            "y= [1 2 3 4 5]\n",
            "z= [1 2 3 4 5]\n",
            "y= [1 2 6 7 5]\n",
            "z= [1 2 6 7 5]\n"
          ]
        }
      ]
    },
    {
      "cell_type": "markdown",
      "source": [
        "#Reshaping array:\n"
      ],
      "metadata": {
        "id": "zunZg2ASX7-z"
      }
    },
    {
      "cell_type": "code",
      "source": [
        "#Convert 1D into 2D\n",
        "a = np.array([1,2,3,4,5,6,7,8,9])\n",
        "print(\"a:\\n\",a)\n",
        "print(\"size of a:\",a.size)\n",
        "b = a.reshape(3,3)\n",
        "print(\"b:\\n\",b)"
      ],
      "metadata": {
        "colab": {
          "base_uri": "https://localhost:8080/"
        },
        "id": "a5fXhlRFXzly",
        "outputId": "e4501291-84ff-4093-ded8-0a89be076e54"
      },
      "execution_count": null,
      "outputs": [
        {
          "output_type": "stream",
          "name": "stdout",
          "text": [
            "a:\n",
            " [1 2 3 4 5 6 7 8 9]\n",
            "size of a: 9\n",
            "b:\n",
            " [[1 2 3]\n",
            " [4 5 6]\n",
            " [7 8 9]]\n"
          ]
        }
      ]
    },
    {
      "cell_type": "code",
      "source": [
        "#convert 1D into 3D\n",
        "a = np.array([1,2,3,4,5,6,7,8,9,10,11,12])\n",
        "print(\"a:\\n\",a)\n",
        "b = a.reshape(3,2,2)\n",
        "print(\"b:\\n\",b)"
      ],
      "metadata": {
        "colab": {
          "base_uri": "https://localhost:8080/"
        },
        "id": "OjfcOYiXbYnR",
        "outputId": "2868fc4e-e217-47dc-ef1c-87a21fb015fb"
      },
      "execution_count": null,
      "outputs": [
        {
          "output_type": "stream",
          "name": "stdout",
          "text": [
            "a:\n",
            " [ 1  2  3  4  5  6  7  8  9 10 11 12]\n",
            "b:\n",
            " [[[ 1  2]\n",
            "  [ 3  4]]\n",
            "\n",
            " [[ 5  6]\n",
            "  [ 7  8]]\n",
            "\n",
            " [[ 9 10]\n",
            "  [11 12]]]\n"
          ]
        }
      ]
    },
    {
      "cell_type": "code",
      "source": [
        "#convert 2D into 3D\n",
        "a = np.array([[1,2,3,4],[5,6,7,8],[1,2,3,4],[5,6,7,8]])\n",
        "print(\"a:\\n\",a)\n",
        "b = a.reshape(2,2,4)\n",
        "print(\"b:\\n\",b)"
      ],
      "metadata": {
        "colab": {
          "base_uri": "https://localhost:8080/"
        },
        "id": "wshvUGfFcEhy",
        "outputId": "43413642-d3a8-4ed5-cc13-6aa298a59cda"
      },
      "execution_count": null,
      "outputs": [
        {
          "output_type": "stream",
          "name": "stdout",
          "text": [
            "a:\n",
            " [[1 2 3 4]\n",
            " [5 6 7 8]\n",
            " [1 2 3 4]\n",
            " [5 6 7 8]]\n",
            "b:\n",
            " [[[1 2 3 4]\n",
            "  [5 6 7 8]]\n",
            "\n",
            " [[1 2 3 4]\n",
            "  [5 6 7 8]]]\n"
          ]
        }
      ]
    },
    {
      "cell_type": "markdown",
      "source": [
        "#Arthmetic operations:"
      ],
      "metadata": {
        "id": "j0ruLOckeyA_"
      }
    },
    {
      "cell_type": "code",
      "source": [
        "a = np.array([1,2,3])\n",
        "b = np.array([5,6,7])\n",
        "print(np.add(a,b))\n",
        "print(np.subtract(a,b))\n",
        "print(np.multiply(a,b))\n",
        "print(np.divide(a,b))\n",
        "print(np.sqrt(a))\n",
        "print(np.sqrt(b))"
      ],
      "metadata": {
        "colab": {
          "base_uri": "https://localhost:8080/"
        },
        "id": "uuAumwiHdc6_",
        "outputId": "a56ebae3-05b8-49b4-be98-7da6bd4c372e"
      },
      "execution_count": null,
      "outputs": [
        {
          "output_type": "stream",
          "name": "stdout",
          "text": [
            "[ 6  8 10]\n",
            "[-4 -4 -4]\n",
            "[ 5 12 21]\n",
            "[0.2        0.33333333 0.42857143]\n",
            "[1.         1.41421356 1.73205081]\n",
            "[2.23606798 2.44948974 2.64575131]\n"
          ]
        }
      ]
    },
    {
      "cell_type": "markdown",
      "source": [
        "#Slicing Method:\n"
      ],
      "metadata": {
        "id": "YBc2uGgefVZ8"
      }
    },
    {
      "cell_type": "code",
      "source": [
        "a = np.array([1,2,3,4,5,6,7,8,9])\n",
        "print(a[1:6])"
      ],
      "metadata": {
        "colab": {
          "base_uri": "https://localhost:8080/"
        },
        "id": "sfR957dbfCIp",
        "outputId": "dd5ca749-4037-432d-9a8b-c3cdb11d3424"
      },
      "execution_count": null,
      "outputs": [
        {
          "output_type": "stream",
          "name": "stdout",
          "text": [
            "[2 3 4 5 6]\n"
          ]
        }
      ]
    },
    {
      "cell_type": "code",
      "source": [
        "a = np.array([[1,2,3,4,5],[6,7,8,9,10]])\n",
        "print(a[1,1:4])   #variable(index of 1D array , starting index , ending index)"
      ],
      "metadata": {
        "colab": {
          "base_uri": "https://localhost:8080/"
        },
        "id": "fBz7VYZpfz8i",
        "outputId": "78416047-60d8-4f22-89f5-eb83a5fc2449"
      },
      "execution_count": null,
      "outputs": [
        {
          "output_type": "stream",
          "name": "stdout",
          "text": [
            "[7 8 9]\n"
          ]
        }
      ]
    },
    {
      "cell_type": "code",
      "source": [
        "a = np.array([[[1,2,3],\n",
        "               [4,5,6],\n",
        "               [7,8,9]],\n",
        "\n",
        "               [[10,11,12],\n",
        "                [13,14,15],\n",
        "                [16,17,18]]])\n",
        "\n",
        "print(a)\n",
        "print(a[0,2,2])"
      ],
      "metadata": {
        "colab": {
          "base_uri": "https://localhost:8080/"
        },
        "id": "_1yyF91XgJ-n",
        "outputId": "232ffc1d-b5ab-4c9f-a36c-cb7ff2546672"
      },
      "execution_count": null,
      "outputs": [
        {
          "output_type": "stream",
          "name": "stdout",
          "text": [
            "[[[ 1  2  3]\n",
            "  [ 4  5  6]\n",
            "  [ 7  8  9]]\n",
            "\n",
            " [[10 11 12]\n",
            "  [13 14 15]\n",
            "  [16 17 18]]]\n",
            "9\n"
          ]
        }
      ]
    }
  ]
}