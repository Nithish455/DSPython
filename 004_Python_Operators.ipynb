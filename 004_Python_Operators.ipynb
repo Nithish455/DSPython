{
  "nbformat": 4,
  "nbformat_minor": 0,
  "metadata": {
    "colab": {
      "provenance": []
    },
    "kernelspec": {
      "name": "python3",
      "display_name": "Python 3"
    },
    "language_info": {
      "name": "python"
    }
  },
  "cells": [
    {
      "cell_type": "markdown",
      "source": [
        "# Operators:\n",
        "**1) Arithmetic operators:** are used with numeric values to perform common mathematical operations"
      ],
      "metadata": {
        "id": "axAcwojYmsJg"
      }
    },
    {
      "cell_type": "code",
      "source": [
        "a = 22\n",
        "b = 4\n",
        "print(a+b)\n",
        "print(a-b)\n",
        "print(a*b)\n",
        "print(a/b)\n",
        "print(a%b)\n",
        "print(a**b)\n",
        "print(a//b)"
      ],
      "metadata": {
        "colab": {
          "base_uri": "https://localhost:8080/"
        },
        "id": "-0OuXeVRm_I2",
        "outputId": "74451b87-3f11-445a-da31-18e959dfa8f4"
      },
      "execution_count": 1,
      "outputs": [
        {
          "output_type": "stream",
          "name": "stdout",
          "text": [
            "26\n",
            "18\n",
            "88\n",
            "5.5\n",
            "2\n",
            "234256\n",
            "5\n"
          ]
        }
      ]
    },
    {
      "cell_type": "markdown",
      "source": [
        "**2)Comparison operators :** are used to compare two values:\n",
        "\n"
      ],
      "metadata": {
        "id": "-zngGJbAnWHu"
      }
    },
    {
      "cell_type": "code",
      "source": [
        "a = 22\n",
        "b = 4\n",
        "print(a==b)\n",
        "print(a!=b)\n",
        "print(a>b)\n",
        "print(a<b)\n",
        "print(a>=b)\n",
        "print(a<=b)"
      ],
      "metadata": {
        "colab": {
          "base_uri": "https://localhost:8080/"
        },
        "id": "S3RKBezbnW38",
        "outputId": "5a4fac01-56df-4592-cc67-8f10c887282c"
      },
      "execution_count": 2,
      "outputs": [
        {
          "output_type": "stream",
          "name": "stdout",
          "text": [
            "False\n",
            "True\n",
            "True\n",
            "False\n",
            "True\n",
            "False\n"
          ]
        }
      ]
    },
    {
      "cell_type": "markdown",
      "source": [
        "**3)Assignment operators:** are used to assign values to variables"
      ],
      "metadata": {
        "id": "id7XugTenIOT"
      }
    },
    {
      "cell_type": "code",
      "source": [
        "a = 22\n",
        "b = 4\n",
        "a+=b\n",
        "print(a)"
      ],
      "metadata": {
        "colab": {
          "base_uri": "https://localhost:8080/"
        },
        "id": "IzkAOELwnG0V",
        "outputId": "95078705-9c9a-4927-e2f6-096bc25bb63f"
      },
      "execution_count": 3,
      "outputs": [
        {
          "output_type": "stream",
          "name": "stdout",
          "text": [
            "26\n"
          ]
        }
      ]
    },
    {
      "cell_type": "code",
      "source": [
        "a-=b\n",
        "print(a)"
      ],
      "metadata": {
        "colab": {
          "base_uri": "https://localhost:8080/"
        },
        "id": "5F6R-71Cn81l",
        "outputId": "cc1134c3-7cc3-44a1-d7e7-8d718622a55c"
      },
      "execution_count": 4,
      "outputs": [
        {
          "output_type": "stream",
          "name": "stdout",
          "text": [
            "22\n"
          ]
        }
      ]
    },
    {
      "cell_type": "code",
      "source": [
        "a*=b\n",
        "print(a)"
      ],
      "metadata": {
        "colab": {
          "base_uri": "https://localhost:8080/"
        },
        "id": "ZP7Hax6An_Tw",
        "outputId": "79cded55-0fb2-410d-951d-8d5afdc1c0aa"
      },
      "execution_count": 5,
      "outputs": [
        {
          "output_type": "stream",
          "name": "stdout",
          "text": [
            "88\n"
          ]
        }
      ]
    },
    {
      "cell_type": "code",
      "source": [
        "a/=b\n",
        "print(a)"
      ],
      "metadata": {
        "colab": {
          "base_uri": "https://localhost:8080/"
        },
        "id": "FGWO54aNoB7-",
        "outputId": "b3418b24-0bce-4142-92d1-fffa61528a7b"
      },
      "execution_count": 6,
      "outputs": [
        {
          "output_type": "stream",
          "name": "stdout",
          "text": [
            "22.0\n"
          ]
        }
      ]
    },
    {
      "cell_type": "code",
      "source": [
        "a%=b\n",
        "print(a)"
      ],
      "metadata": {
        "colab": {
          "base_uri": "https://localhost:8080/"
        },
        "id": "B4SSGFWSoD7w",
        "outputId": "f5add475-9d63-40db-8af0-6bcfbdf7498a"
      },
      "execution_count": 7,
      "outputs": [
        {
          "output_type": "stream",
          "name": "stdout",
          "text": [
            "2.0\n"
          ]
        }
      ]
    },
    {
      "cell_type": "code",
      "source": [
        "a**=b\n",
        "print(a)"
      ],
      "metadata": {
        "colab": {
          "base_uri": "https://localhost:8080/"
        },
        "id": "yhlLXAZ0oF4l",
        "outputId": "5bbefa21-c269-4096-c95d-75ed415f6c25"
      },
      "execution_count": 8,
      "outputs": [
        {
          "output_type": "stream",
          "name": "stdout",
          "text": [
            "16.0\n"
          ]
        }
      ]
    },
    {
      "cell_type": "markdown",
      "source": [
        "**4) Logical operators:** are used to combine conditional statements:\n",
        "*   and : Returns True if both statements are true.\n",
        "*   or\t: Returns True if one of the statements is true.\n",
        "*   not\t: Reverse the result, returns False if the result is true."
      ],
      "metadata": {
        "id": "b3qHFWBNoJvd"
      }
    },
    {
      "cell_type": "code",
      "source": [
        "a = 22\n",
        "b = 4\n",
        "print(a>b and b<a)\n",
        "print(a>b or b<a)\n",
        "print(not(a>b and b<a))"
      ],
      "metadata": {
        "colab": {
          "base_uri": "https://localhost:8080/"
        },
        "id": "_XUxBWfToHsT",
        "outputId": "6a153d97-b9d2-40f3-f782-226fb64594c6"
      },
      "execution_count": 9,
      "outputs": [
        {
          "output_type": "stream",
          "name": "stdout",
          "text": [
            "True\n",
            "True\n",
            "False\n"
          ]
        }
      ]
    },
    {
      "cell_type": "markdown",
      "source": [
        "**5)Identity operators:** are used to compare the objects, not if they are equal, but if they are actually the same object, with the same memory location.\n",
        "\n",
        "\n",
        "*   is     : Returns True if both variables are the same object.\n",
        "*   is not : Returns True if both variables are not the same object.\n",
        "\n"
      ],
      "metadata": {
        "id": "ZsX5Eyzwo2x-"
      }
    },
    {
      "cell_type": "code",
      "source": [
        "a = 22\n",
        "b = 4\n",
        "print(a is b)\n",
        "print(a is not b)"
      ],
      "metadata": {
        "colab": {
          "base_uri": "https://localhost:8080/"
        },
        "id": "IDnVn9lpo03G",
        "outputId": "2419706f-0897-4de4-d004-68fdcc6392e2"
      },
      "execution_count": 10,
      "outputs": [
        {
          "output_type": "stream",
          "name": "stdout",
          "text": [
            "False\n",
            "True\n"
          ]
        }
      ]
    },
    {
      "cell_type": "markdown",
      "source": [
        "**6)Membership operators:** are used to test if a sequence is presented in an object.\n",
        "\n",
        "\n",
        "*   in \t   : Returns True if a sequence with the specified value is present in the object.\n",
        "*   not in :\tReturns True if a sequence with the specified value is not present in the object.\n",
        "\n"
      ],
      "metadata": {
        "id": "teMu2sjrpV_-"
      }
    },
    {
      "cell_type": "code",
      "source": [
        "a = [3,4,5,6,7,8]\n",
        "print(5 in a)\n",
        "print(7 in a)\n",
        "print(8 not in a)"
      ],
      "metadata": {
        "colab": {
          "base_uri": "https://localhost:8080/"
        },
        "id": "EIlCR1OhquVK",
        "outputId": "a7773650-3696-4a1e-8570-cf7ae0bdb44c"
      },
      "execution_count": 11,
      "outputs": [
        {
          "output_type": "stream",
          "name": "stdout",
          "text": [
            "True\n",
            "True\n",
            "False\n"
          ]
        }
      ]
    },
    {
      "cell_type": "markdown",
      "source": [
        "**7)Bitwise operators:** are used to compare (binary) numbers.\n",
        "\n",
        "*   &   (AND)\tSets each bit to 1 if both bits are 1.\n",
        "*   |\t  (OR)\tSets each bit to 1 if one of two bits is 1.\n",
        "*   ^\t  (XOR)\tSets each bit to 1 if only one of two bits is 1\n",
        "*   ~\t  (NOT)\tInverts all the bits\n",
        "*   <<\t(Zero fill left shift)\tShift left by pushing zeros in from the right and let the leftmost bits fall off\n",
        "*   (>>)\t(Signed right shift)\tShift right by pushing copies of the leftmost bit in from the left, and let the rightmost bits fall off"
      ],
      "metadata": {
        "id": "HW59Fr6d6E-C"
      }
    },
    {
      "cell_type": "code",
      "source": [
        "a = 22\n",
        "b = 4\n",
        "print(a&b)\n",
        "print(a|b)\n",
        "print(a^b)\n",
        "print(~a)\n",
        "print(a<<2)\n",
        "print(b<<2)\n",
        "print(a>>2)\n",
        "print(b>>2)"
      ],
      "metadata": {
        "colab": {
          "base_uri": "https://localhost:8080/"
        },
        "id": "w3cFXqX8rSoU",
        "outputId": "39d45d8e-3194-4826-a8af-d3ba72b641a3"
      },
      "execution_count": 16,
      "outputs": [
        {
          "output_type": "stream",
          "name": "stdout",
          "text": [
            "4\n",
            "22\n",
            "18\n",
            "-23\n",
            "88\n",
            "16\n",
            "5\n",
            "1\n"
          ]
        }
      ]
    }
  ]
}