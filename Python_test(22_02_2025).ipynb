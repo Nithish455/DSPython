{
  "nbformat": 4,
  "nbformat_minor": 0,
  "metadata": {
    "colab": {
      "provenance": []
    },
    "kernelspec": {
      "name": "python3",
      "display_name": "Python 3"
    },
    "language_info": {
      "name": "python"
    }
  },
  "cells": [
    {
      "cell_type": "markdown",
      "source": [
        "1) what is python?\n",
        "*   It is a high-level programming language.used in web development,application building,gamming,automation.\n",
        "*   It is developed in the year 1991 by van rossium.\n",
        "\n",
        "2) Key features of python?\n",
        "*   High portable language\n",
        "*   Python language is very easy to understand.\n",
        "*   easy to connect with Data-base.\n",
        "*   Extremely dynamic.\n",
        "\n",
        "3) why is python Different from other programming languages?\n",
        "*   Python have large set of libraries\n",
        "*   It is a robust Prohgramming Lnaguage.\n",
        "\n",
        "4)What are python data types?\n",
        "*   Basic DataTypes:\n",
        "    1. Integer  \n",
        "    2. float\n",
        "    3. Boolean\n",
        "    4. Complex\n",
        "*   Advance DataType:\n",
        "    1.   List  \n",
        "    2.   Tuple\n",
        "    3.   String\n",
        "    4.   Set\n",
        "    5.   Dictionary\n",
        "\n",
        "5)Difference between List and Tuple?\n",
        "1.   List:\n",
        "*   List is a collection of Elements,vales.\n",
        "*   Represented By [ ] and seperated by \" , \".\n",
        "*   List is a ordered datatype.\n",
        "*   List is mutable(we can change, modify,update).\n",
        "2.   Tuple:\n",
        "*   Represented by  ( ) and seperated by \" , \".\n",
        "*   Tuple is immutable(we cannot chnage,modify,update).\n",
        "*   It is collection of elements,values,items.\n",
        "*   Tuple is ordered datatype.\n",
        "\n",
        "6) How do you comment in python?\n",
        "\n",
        "\n",
        "*   #....\n",
        "*   /*.....\n",
        "*   \"\"\" ... \"\"\"\n",
        "\n",
        "7)what is the difference between pass,continue,break?\n",
        "1.   Break:When a break is used it will break the loop and stop the execution.\n",
        "2.   Pass:it is like a placeholder used to hold place for future\n",
        "3.   Continue:is used force the loop to skip and start next iteration\n",
        "\n",
        "8)Difference between is and == ?\n",
        "*   \"is\" is a identity operator and used to test whether the item is in variable or not.\n",
        "*   == is a equality operator. checks if two values are equal or not.\n",
        "\n",
        "\n",
        "\n",
        "\n",
        "\n",
        "\n",
        "\n",
        "\n",
        "\n",
        "\n",
        "\n",
        "\n",
        "\n",
        "\n",
        "\n",
        "\n",
        "\n",
        "\n",
        "\n",
        "\n"
      ],
      "metadata": {
        "id": "yWzuO--OHCMD"
      }
    },
    {
      "cell_type": "markdown",
      "source": [
        "9) # How do you define function in python?\n",
        "- using def keyword.\n",
        "Syntax:\n",
        "def function_name(parameters):"
      ],
      "metadata": {
        "id": "FsyHV908TR_x"
      }
    },
    {
      "cell_type": "code",
      "source": [
        "# check the given number os even or not\n",
        "a = int(input(\"Enter a number\"))\n",
        "if a%2==0:\n",
        "  print(\"the given number is even\")\n",
        "else:\n",
        "  print(\"the given number is odd\")"
      ],
      "metadata": {
        "colab": {
          "base_uri": "https://localhost:8080/"
        },
        "id": "5fvYQaceSdbr",
        "outputId": "d24f2ed2-3fc6-419f-c0ad-28c02c9d779f"
      },
      "execution_count": 3,
      "outputs": [
        {
          "output_type": "stream",
          "name": "stdout",
          "text": [
            "Enter a number22\n",
            "the given number is even\n"
          ]
        }
      ]
    },
    {
      "cell_type": "code",
      "source": [
        "# python code to reverse a string\n",
        "a = \"nithish\" [::-1]\n",
        "print(a)"
      ],
      "metadata": {
        "colab": {
          "base_uri": "https://localhost:8080/"
        },
        "id": "x8iDtGtYTN0v",
        "outputId": "45901e66-3183-4684-a77a-6692a6f945b2"
      },
      "execution_count": 4,
      "outputs": [
        {
          "output_type": "stream",
          "name": "stdout",
          "text": [
            "hsihtin\n"
          ]
        }
      ]
    },
    {
      "cell_type": "code",
      "source": [
        "#Remove duplicate elements from a list\n",
        "a = [1,2,2,3,4,5,5,8,8,9]\n",
        "b = list(set(a))\n",
        "print(\"Before Removing Duplicate Values:\",a)\n",
        "print(\"After Removing Duplicate Values\",b)\n"
      ],
      "metadata": {
        "colab": {
          "base_uri": "https://localhost:8080/"
        },
        "id": "Cdl99zGXT_z_",
        "outputId": "d00cfe77-8634-4fe7-ed31-be66a3e9e93e"
      },
      "execution_count": 7,
      "outputs": [
        {
          "output_type": "stream",
          "name": "stdout",
          "text": [
            "Before Removing Duplicate Values: [1, 2, 2, 3, 4, 5, 5, 8, 8, 9]\n",
            "After Removing Duplicate Values [1, 2, 3, 4, 5, 8, 9]\n"
          ]
        }
      ]
    },
    {
      "cell_type": "code",
      "source": [
        "# Common elements in two lists\n",
        "list1 = [1,2,3,4,5]\n",
        "list2 = [3,4,5,6,7]\n",
        "list3 = set(list1) & set(list2)\n",
        "print(list3)"
      ],
      "metadata": {
        "colab": {
          "base_uri": "https://localhost:8080/"
        },
        "id": "zVYsYsLyVh2G",
        "outputId": "d6140c7c-857b-4172-8f9a-0590f48771f5"
      },
      "execution_count": 11,
      "outputs": [
        {
          "output_type": "stream",
          "name": "stdout",
          "text": [
            "{3, 4, 5}\n"
          ]
        }
      ]
    },
    {
      "cell_type": "code",
      "source": [
        "#factorial of a number\n",
        "a = int(input(\"Enter a number:\"))\n",
        "initial = 1\n",
        "for i in range(1,a+1):\n",
        "  initial = initial*i\n",
        "print(\"The factorial of\",a,\"is\",initial)\n"
      ],
      "metadata": {
        "colab": {
          "base_uri": "https://localhost:8080/"
        },
        "id": "ndDlyfUCWThx",
        "outputId": "fafcffd5-85f9-4ad7-ff4f-d0cb5f360068"
      },
      "execution_count": 20,
      "outputs": [
        {
          "output_type": "stream",
          "name": "stdout",
          "text": [
            "Enter a number:3\n",
            "The factorial of 3 is 6\n"
          ]
        }
      ]
    },
    {
      "cell_type": "code",
      "source": [
        "#palindrome of a string\n",
        "a = input(\"Enter \")\n",
        "if a ==a[::-1]:\n",
        "  print(\"It is palimdrome\")\n",
        "else:\n",
        "  print(\"Not a palimdrome\")\n"
      ],
      "metadata": {
        "colab": {
          "base_uri": "https://localhost:8080/"
        },
        "id": "MnUNU61aZM7S",
        "outputId": "e45bc48b-4660-41b6-a719-2c95dbe234d3"
      },
      "execution_count": 14,
      "outputs": [
        {
          "output_type": "stream",
          "name": "stdout",
          "text": [
            "Enter a string:nin\n",
            "It is palimdrome\n"
          ]
        }
      ]
    },
    {
      "cell_type": "code",
      "source": [
        "#GCD of two numbers\n",
        "import math\n",
        "math.gcd(24,15)"
      ],
      "metadata": {
        "colab": {
          "base_uri": "https://localhost:8080/"
        },
        "id": "d6NYw2xQZTBW",
        "outputId": "2217873f-71e8-4c9b-d177-0e077d69051a"
      },
      "execution_count": 25,
      "outputs": [
        {
          "output_type": "execute_result",
          "data": {
            "text/plain": [
              "3"
            ]
          },
          "metadata": {},
          "execution_count": 25
        }
      ]
    }
  ]
}