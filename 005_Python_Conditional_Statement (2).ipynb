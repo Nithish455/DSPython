{
  "nbformat": 4,
  "nbformat_minor": 0,
  "metadata": {
    "colab": {
      "provenance": []
    },
    "kernelspec": {
      "name": "python3",
      "display_name": "Python 3"
    },
    "language_info": {
      "name": "python"
    }
  },
  "cells": [
    {
      "cell_type": "markdown",
      "source": [
        "# Conditional Statements:\n",
        "**1) If statement:** If statement is the simplest form of a conditional statement. It executes a block of code if the given condition is true."
      ],
      "metadata": {
        "id": "cyBb1V-a8Yr-"
      }
    },
    {
      "cell_type": "code",
      "execution_count": null,
      "metadata": {
        "colab": {
          "base_uri": "https://localhost:8080/"
        },
        "id": "dVFaz9RD8L29",
        "outputId": "ebe222a9-49b1-48ba-967c-54812d1ead8c"
      },
      "outputs": [
        {
          "output_type": "stream",
          "name": "stdout",
          "text": [
            "Enter a number:22\n",
            "Given Number is positive\n"
          ]
        }
      ],
      "source": [
        "a = int(input(\"Enter a number:\"))\n",
        "if a > 0:\n",
        "  print(\"Given Number is positive\")"
      ]
    },
    {
      "cell_type": "markdown",
      "source": [
        "**2) if-else( ):**Executes one block if the condition is True then gives the output, otherwise executes another block."
      ],
      "metadata": {
        "id": "WTX-W_YO-577"
      }
    },
    {
      "cell_type": "code",
      "source": [
        "a = int(input(\"Enter your age\"))\n",
        "if a >= 18:\n",
        "  print(\"You are eligible for voting\")\n",
        "else:\n",
        "  print(\"You are not eligible for voting\")"
      ],
      "metadata": {
        "colab": {
          "base_uri": "https://localhost:8080/"
        },
        "id": "iBw_xUni-3Cj",
        "outputId": "82ebc4a4-99c5-49da-b88c-2df17ff1c35f"
      },
      "execution_count": null,
      "outputs": [
        {
          "output_type": "stream",
          "name": "stdout",
          "text": [
            "Enter your age22\n",
            "You are eligible for voting\n"
          ]
        }
      ]
    },
    {
      "cell_type": "markdown",
      "source": [
        "**3) elif:** Allows checking multiple conditions.\n"
      ],
      "metadata": {
        "id": "B70Kw1FuAhR0"
      }
    },
    {
      "cell_type": "code",
      "source": [
        "a = int(input(\"Enter a number:\"))\n",
        "if a > 0:\n",
        "  print(\"Given number is positive\")\n",
        "elif a < 0:\n",
        "  print(\"Given number is negative\")\n",
        "else:\n",
        "  print(\"Given number is zero\")"
      ],
      "metadata": {
        "colab": {
          "base_uri": "https://localhost:8080/"
        },
        "id": "4CK_t9iIAfNr",
        "outputId": "8beea72a-fd14-4569-adae-16af6552d6b0"
      },
      "execution_count": null,
      "outputs": [
        {
          "output_type": "stream",
          "name": "stdout",
          "text": [
            "Enter a number:22\n",
            "Given number is positive\n"
          ]
        }
      ]
    },
    {
      "cell_type": "markdown",
      "source": [
        "# Practice test Questions:"
      ],
      "metadata": {
        "id": "Ciy_Dry1iDsq"
      }
    },
    {
      "cell_type": "code",
      "source": [
        "# write a python program to find even number\n",
        "a = int(input(\"Enter a Number\"))\n",
        "if a%2 == 0:\n",
        "  print(\"a is even number\")\n",
        "else:\n",
        "  print(\"a is odd number\")"
      ],
      "metadata": {
        "colab": {
          "base_uri": "https://localhost:8080/"
        },
        "id": "ygh-pr9jiHow",
        "outputId": "75a630f8-e204-4206-d2bc-fa0a6fbd2242"
      },
      "execution_count": null,
      "outputs": [
        {
          "output_type": "stream",
          "name": "stdout",
          "text": [
            "Enter a Number22\n",
            "a is even number\n"
          ]
        }
      ]
    },
    {
      "cell_type": "code",
      "source": [
        "# write a program to find smallest number among them\n",
        "a,b,c = 11,22,3\n",
        "if a<b and a<c:\n",
        "  print(\" a is smaller number\")\n",
        "elif b<a and b<c:\n",
        "  print(\"b is smaller number\")\n",
        "else:\n",
        "  print(\"c is smaller number\")"
      ],
      "metadata": {
        "colab": {
          "base_uri": "https://localhost:8080/"
        },
        "id": "sgqYqG47iN6y",
        "outputId": "21427889-b7a3-4924-8dbb-fa3a62b54dc7"
      },
      "execution_count": null,
      "outputs": [
        {
          "output_type": "stream",
          "name": "stdout",
          "text": [
            "c is smaller number\n"
          ]
        }
      ]
    },
    {
      "cell_type": "code",
      "source": [
        "# write a program to find maximum among three numbers\n",
        "a,b,c = 11,22,333\n",
        "if a>b and a>c:\n",
        "  print(\"a is greater number\")\n",
        "elif b>a and b>c:\n",
        "  print(\"b is greater number\")\n",
        "else:\n",
        "  print(\"c is greater number\")"
      ],
      "metadata": {
        "colab": {
          "base_uri": "https://localhost:8080/"
        },
        "id": "idWU-vBViY0j",
        "outputId": "89dd29ca-1567-4841-ca14-e185fa18d003"
      },
      "execution_count": null,
      "outputs": [
        {
          "output_type": "stream",
          "name": "stdout",
          "text": [
            "c is greater number\n"
          ]
        }
      ]
    },
    {
      "cell_type": "code",
      "source": [
        "# write a pyhton program for grading system\n",
        "marks = int(input(\"Enter Your Marks: \"))\n",
        "if marks >= 90:\n",
        "  print(\"Grade A\")\n",
        "elif marks >= 80 and marks <90:\n",
        "  print(\"Grade B\")\n",
        "elif marks >= 70 and marks <80:\n",
        "  print(\"Grade C\")\n",
        "elif marks >= 60 and marks <70:\n",
        "  print(\"Grade D\")\n",
        "else:\n",
        "  print(\"You Are Fail\")"
      ],
      "metadata": {
        "colab": {
          "base_uri": "https://localhost:8080/"
        },
        "id": "3xtjRZjNiooL",
        "outputId": "a0d381ba-cbb7-4a79-8da7-f86128d36eb1"
      },
      "execution_count": null,
      "outputs": [
        {
          "output_type": "stream",
          "name": "stdout",
          "text": [
            "Enter Your Marks: 80\n",
            "Grade B\n"
          ]
        }
      ]
    },
    {
      "cell_type": "code",
      "source": [
        "# write a program to find given char is vowel or not\n",
        "char = input(\"Enter a character: \")\n",
        "if char in \"aeiouAEIOU\":\n",
        "  print(\" is a vowel.\")\n",
        "else:\n",
        "  print(\"is not a vowel.\")"
      ],
      "metadata": {
        "colab": {
          "base_uri": "https://localhost:8080/"
        },
        "id": "ktcsNn70iwju",
        "outputId": "f78809b6-bcfb-452e-94e2-ec89aad95397"
      },
      "execution_count": null,
      "outputs": [
        {
          "output_type": "stream",
          "name": "stdout",
          "text": [
            "Enter a character: AEIOU\n",
            " is a vowel.\n"
          ]
        }
      ]
    },
    {
      "cell_type": "code",
      "source": [
        "# write a program to swap two numbers\n",
        "a = 10\n",
        "b = 20\n",
        "a,b = b,a\n",
        "print(a)\n",
        "print(b)"
      ],
      "metadata": {
        "colab": {
          "base_uri": "https://localhost:8080/"
        },
        "id": "YsP4mJ_Wi8Vp",
        "outputId": "818cd94a-9455-4f49-ceb4-6fd9b3da2d6d"
      },
      "execution_count": null,
      "outputs": [
        {
          "output_type": "stream",
          "name": "stdout",
          "text": [
            "20\n",
            "10\n"
          ]
        }
      ]
    },
    {
      "cell_type": "code",
      "source": [
        "a = int(input(\"enter a number\"))\n",
        "b = int(input(\"Enter a number\"))\n",
        "if a!= b:\n",
        "  a = a+b\n",
        "  b = a-b\n",
        "  a = a-b\n",
        "  print(a)\n",
        "  print(b)\n",
        "else:\n",
        "  print(\"Both numbers are equal\")\n"
      ],
      "metadata": {
        "colab": {
          "base_uri": "https://localhost:8080/"
        },
        "id": "vmmlGBXHmqj2",
        "outputId": "f29cd832-926c-4639-da4b-e0e256f9a5aa"
      },
      "execution_count": 11,
      "outputs": [
        {
          "output_type": "stream",
          "name": "stdout",
          "text": [
            "enter a number22\n",
            "Enter a number22\n",
            "Both numbers are equal\n"
          ]
        }
      ]
    },
    {
      "cell_type": "code",
      "source": [
        "a=int(input(\"Enter a number\"))\n",
        "b= int(input(\"Enter a number\"))\n",
        "print(\"before swapping\",a,b)\n",
        "if True:\n",
        "  a,b = b,a\n",
        "  print(\"after swapping\",a,b)"
      ],
      "metadata": {
        "colab": {
          "base_uri": "https://localhost:8080/"
        },
        "id": "XDSZZL96nLMI",
        "outputId": "72a330ca-000c-4c11-d300-7ab2a9aa0456"
      },
      "execution_count": 12,
      "outputs": [
        {
          "output_type": "stream",
          "name": "stdout",
          "text": [
            "Enter a number22\n",
            "Enter a number33\n",
            "before swapping 22 33\n",
            "after swapping 33 22\n"
          ]
        }
      ]
    },
    {
      "cell_type": "code",
      "source": [],
      "metadata": {
        "id": "jKIc6BJyn62V"
      },
      "execution_count": null,
      "outputs": []
    }
  ]
}